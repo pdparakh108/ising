{
 "cells": [
  {
   "cell_type": "code",
   "execution_count": null,
   "metadata": {},
   "outputs": [],
   "source": []
  },
  {
   "cell_type": "markdown",
   "metadata": {},
   "source": [
    "## Heat Capacity\n",
    "\n",
    "$$\n",
    "c_v = \\frac{k}{T^2} Var{E}\n",
    "$$\n",
    "\n",
    "set $\\beta=1$\n",
    "$$\n",
    "c_v = \\frac{1}{T} Var{E}\n",
    "$$"
   ]
  },
  {
   "cell_type": "code",
   "execution_count": null,
   "metadata": {},
   "outputs": [],
   "source": [
    "def get_cv(data):\n",
    "\n",
    "    cv = 1/data[\"Temp\"] * data[\"E_std\"]**2\n",
    "    return cv"
   ]
  },
  {
   "cell_type": "code",
   "execution_count": null,
   "metadata": {},
   "outputs": [],
   "source": []
  },
  {
   "cell_type": "markdown",
   "metadata": {},
   "source": [
    "## Magnetic Susceptibility\n",
    "\n",
    "$\\chi = \\beta Var(M)$\n",
    "\n",
    "set $\\beta = 1$\n",
    "\n",
    "$\\chi = \\beta Var(M)$"
   ]
  },
  {
   "cell_type": "markdown",
   "metadata": {},
   "source": []
  }
 ],
 "metadata": {
  "language_info": {
   "name": "python"
  }
 },
 "nbformat": 4,
 "nbformat_minor": 2
}
