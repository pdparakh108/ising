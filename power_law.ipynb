{
 "cells": [
  {
   "cell_type": "code",
   "execution_count": 1,
   "metadata": {},
   "outputs": [],
   "source": [
    "import pandas as pd\n",
    "import numpy as np\n",
    "from scipy.optimize import curve_fit\n",
    "import matplotlib.pyplot as plt\n",
    "import glob"
   ]
  },
  {
   "cell_type": "code",
   "execution_count": 2,
   "metadata": {},
   "outputs": [],
   "source": [
    "def log_scaling(t, A):\n",
    "    return A*np.log(np.abs(t))\n",
    "\n",
    "# Exponential decay function\n",
    "def crit_decay(x, A, k):\n",
    "    return A*np.abs(x)**(-k)"
   ]
  },
  {
   "cell_type": "code",
   "execution_count": 3,
   "metadata": {},
   "outputs": [],
   "source": [
    "ems = []\n",
    "for file in glob.glob(\"data/*_EM_*\"):\n",
    "    ems.append(pd.read_csv(file, skiprows = 3))\n",
    "\n"
   ]
  },
  {
   "cell_type": "code",
   "execution_count": 4,
   "metadata": {},
   "outputs": [
    {
     "data": {
      "text/plain": [
       "[    Temp    E_mean     E_std    M_mean     M_std\n",
       " 0    1.6 -1.910170  0.086357 -0.973723  0.029444\n",
       " 1    1.7 -1.898668  0.093227  0.970874  0.030516\n",
       " 2    1.8 -1.848698  0.122105  0.952098  0.049929\n",
       " 3    1.9 -1.818068  0.140324  0.944189  0.051116\n",
       " 4    2.0 -1.749966  0.153568 -0.918240  0.060514\n",
       " 5    2.1 -1.653499  0.186537  0.872410  0.100788\n",
       " 6    2.2 -1.543077  0.212366 -0.829506  0.105788\n",
       " 7    2.3 -1.440024  0.244038  0.356427  0.690233\n",
       " 8    2.4 -1.200584  0.268153  0.158400  0.609333\n",
       " 9    2.5 -1.237207  0.264965  0.305721  0.584414\n",
       " 10   2.6 -1.069026  0.231659  0.349962  0.408319\n",
       " 11   2.7 -0.952635  0.210369  0.274939  0.325609\n",
       " 12   2.8 -0.868906  0.212584  0.122416  0.367509\n",
       " 13   2.9 -0.856539  0.224622 -0.071902  0.375054\n",
       " 14   3.0 -0.752270  0.196748  0.046497  0.282623\n",
       " 15   3.1 -0.729686  0.192684 -0.030518  0.306078\n",
       " 16   3.2 -0.696687  0.194043 -0.016827  0.283417\n",
       " 17   3.3 -0.649462  0.177973 -0.010826  0.248966\n",
       " 18   3.4 -0.646921  0.183490 -0.002164  0.254181\n",
       " 19   3.5 -0.612683  0.165470 -0.033699  0.226327,\n",
       "     Temp    E_mean     E_std    M_mean     M_std\n",
       " 0    1.6 -1.920864  0.100428 -0.976755  0.034715\n",
       " 1    1.7 -1.894699  0.094886  0.969798  0.031430\n",
       " 2    1.8 -1.853263  0.123103 -0.955499  0.044494\n",
       " 3    1.9 -1.788170  0.154182 -0.930714  0.065156\n",
       " 4    2.0 -1.718324  0.188025 -0.897127  0.097893\n",
       " 5    2.1 -1.661892  0.186551 -0.884533  0.081063\n",
       " 6    2.2 -1.401320  0.275585 -0.290734  0.668378\n",
       " 7    2.3 -1.375067  0.248211 -0.511030  0.522727\n",
       " 8    2.4 -1.290222  0.268974 -0.442304  0.510944\n",
       " 9    2.5 -1.269354  0.288862 -0.172507  0.644904\n",
       " 10   2.6 -1.034887  0.235350  0.331226  0.361466\n",
       " 11   2.7 -0.933799  0.251193  0.149794  0.408508\n",
       " 12   2.8 -0.959308  0.237345  0.301768  0.394611\n",
       " 13   2.9 -0.838996  0.199273 -0.031722  0.354234\n",
       " 14   3.0 -0.757544  0.190218  0.021540  0.298968\n",
       " 15   3.1 -0.714903  0.175140  0.022785  0.289715\n",
       " 16   3.2 -0.698920  0.190522 -0.000824  0.294570\n",
       " 17   3.3 -0.683849  0.186275  0.039268  0.267598\n",
       " 18   3.4 -0.640196  0.178792  0.061628  0.243041\n",
       " 19   3.5 -0.632006  0.167947  0.046017  0.229694,\n",
       "     Temp    E_mean     E_std    M_mean     M_std\n",
       " 0    1.6 -1.902749  0.191350  0.970986  0.071288\n",
       " 1    1.7 -1.920912  0.165368  0.978476  0.048629\n",
       " 2    1.8 -1.898764  0.198815  0.970522  0.068967\n",
       " 3    1.9 -1.752190  0.340290 -0.302212  0.877364\n",
       " 4    2.0 -1.766193  0.307499 -0.423037  0.829517\n",
       " 5    2.1 -1.677536  0.340442 -0.744653  0.511575\n",
       " 6    2.2 -1.573867  0.404628  0.824493  0.270595\n",
       " 7    2.3 -1.530578  0.411007 -0.583117  0.618987\n",
       " 8    2.4 -1.428270  0.464481 -0.213171  0.780899\n",
       " 9    2.5 -1.330250  0.475471 -0.175083  0.753361\n",
       " 10   2.6 -1.152695  0.486778 -0.045089  0.699420\n",
       " 11   2.7 -1.142677  0.496995  0.058452  0.696740\n",
       " 12   2.8 -1.093563  0.494933 -0.225477  0.632439\n",
       " 13   2.9 -0.901796  0.461008  0.068342  0.564493\n",
       " 14   3.0 -0.749750  0.399393 -0.032751  0.494972\n",
       " 15   3.1 -0.778892  0.400825 -0.033183  0.500300\n",
       " 16   3.2 -0.775083  0.399544  0.013627  0.512981\n",
       " 17   3.3 -0.706525  0.396201  0.034287  0.477767\n",
       " 18   3.4 -0.726465  0.425214 -0.080280  0.487085\n",
       " 19   3.5 -0.614875  0.356898 -0.017708  0.419164,\n",
       "     Temp    E_mean     E_std    M_mean     M_std\n",
       " 0    1.6 -1.919872  0.202798 -0.974731  0.081327\n",
       " 1    1.7 -1.871254  0.221135  0.961928  0.074719\n",
       " 2    1.8 -1.865941  0.225445 -0.473607  0.838563\n",
       " 3    1.9 -1.795063  0.266931  0.938708  0.091780\n",
       " 4    2.0 -1.708278  0.337251 -0.903005  0.144557\n",
       " 5    2.1 -1.636311  0.384700  0.225237  0.857696\n",
       " 6    2.2 -1.611010  0.395837  0.843569  0.247444\n",
       " 7    2.3 -1.373251  0.476830 -0.369362  0.698259\n",
       " 8    2.4 -1.406617  0.463027  0.355727  0.724016\n",
       " 9    2.5 -1.256251  0.515730  0.038656  0.742602\n",
       " 10   2.6 -1.218084  0.484107  0.371010  0.625662\n",
       " 11   2.7 -1.076647  0.502986  0.173723  0.644470\n",
       " 12   2.8 -0.975459  0.439784  0.219812  0.570054\n",
       " 13   2.9 -1.018284  0.493491 -0.027245  0.646971\n",
       " 14   3.0 -0.930090  0.480275 -0.005417  0.605227\n",
       " 15   3.1 -0.830214  0.461763  0.093419  0.549861\n",
       " 16   3.2 -0.733539  0.442149 -0.017548  0.489494\n",
       " 17   3.3 -0.755639  0.417548 -0.192527  0.466665\n",
       " 18   3.4 -0.733635  0.428007 -0.059796  0.501538\n",
       " 19   3.5 -0.703181  0.405482  0.024477  0.477853]"
      ]
     },
     "execution_count": 4,
     "metadata": {},
     "output_type": "execute_result"
    }
   ],
   "source": [
    "ems"
   ]
  },
  {
   "cell_type": "markdown",
   "metadata": {},
   "source": [
    "N,n_steps,n_analyze,flip_perc\n",
    "100,60000,5000,0.1\n"
   ]
  },
  {
   "cell_type": "code",
   "execution_count": 5,
   "metadata": {},
   "outputs": [
    {
     "ename": "FileNotFoundError",
     "evalue": "[Errno 2] No such file or directory: 'good_data_v1/2.00T2.50_EM_v0.csv'",
     "output_type": "error",
     "traceback": [
      "\u001b[0;31m---------------------------------------------------------------------------\u001b[0m",
      "\u001b[0;31mFileNotFoundError\u001b[0m                         Traceback (most recent call last)",
      "Cell \u001b[0;32mIn[5], line 1\u001b[0m\n\u001b[0;32m----> 1\u001b[0m em \u001b[38;5;241m=\u001b[39m \u001b[43mpd\u001b[49m\u001b[38;5;241;43m.\u001b[39;49m\u001b[43mread_csv\u001b[49m\u001b[43m(\u001b[49m\u001b[38;5;124;43m\"\u001b[39;49m\u001b[38;5;124;43mgood_data_v1/2.00T2.50_EM_v0.csv\u001b[39;49m\u001b[38;5;124;43m\"\u001b[39;49m\u001b[43m,\u001b[49m\u001b[43m \u001b[49m\u001b[43mskiprows\u001b[49m\u001b[38;5;241;43m=\u001b[39;49m\u001b[38;5;241;43m3\u001b[39;49m\u001b[43m)\u001b[49m\n\u001b[1;32m      2\u001b[0m em\u001b[38;5;241m=\u001b[39m em[\u001b[38;5;241m1\u001b[39m:]\n",
      "File \u001b[0;32m~/miniconda3/lib/python3.9/site-packages/pandas/util/_decorators.py:211\u001b[0m, in \u001b[0;36mdeprecate_kwarg.<locals>._deprecate_kwarg.<locals>.wrapper\u001b[0;34m(*args, **kwargs)\u001b[0m\n\u001b[1;32m    209\u001b[0m     \u001b[38;5;28;01melse\u001b[39;00m:\n\u001b[1;32m    210\u001b[0m         kwargs[new_arg_name] \u001b[38;5;241m=\u001b[39m new_arg_value\n\u001b[0;32m--> 211\u001b[0m \u001b[38;5;28;01mreturn\u001b[39;00m \u001b[43mfunc\u001b[49m\u001b[43m(\u001b[49m\u001b[38;5;241;43m*\u001b[39;49m\u001b[43margs\u001b[49m\u001b[43m,\u001b[49m\u001b[43m \u001b[49m\u001b[38;5;241;43m*\u001b[39;49m\u001b[38;5;241;43m*\u001b[39;49m\u001b[43mkwargs\u001b[49m\u001b[43m)\u001b[49m\n",
      "File \u001b[0;32m~/miniconda3/lib/python3.9/site-packages/pandas/util/_decorators.py:331\u001b[0m, in \u001b[0;36mdeprecate_nonkeyword_arguments.<locals>.decorate.<locals>.wrapper\u001b[0;34m(*args, **kwargs)\u001b[0m\n\u001b[1;32m    325\u001b[0m \u001b[38;5;28;01mif\u001b[39;00m \u001b[38;5;28mlen\u001b[39m(args) \u001b[38;5;241m>\u001b[39m num_allow_args:\n\u001b[1;32m    326\u001b[0m     warnings\u001b[38;5;241m.\u001b[39mwarn(\n\u001b[1;32m    327\u001b[0m         msg\u001b[38;5;241m.\u001b[39mformat(arguments\u001b[38;5;241m=\u001b[39m_format_argument_list(allow_args)),\n\u001b[1;32m    328\u001b[0m         \u001b[38;5;167;01mFutureWarning\u001b[39;00m,\n\u001b[1;32m    329\u001b[0m         stacklevel\u001b[38;5;241m=\u001b[39mfind_stack_level(),\n\u001b[1;32m    330\u001b[0m     )\n\u001b[0;32m--> 331\u001b[0m \u001b[38;5;28;01mreturn\u001b[39;00m \u001b[43mfunc\u001b[49m\u001b[43m(\u001b[49m\u001b[38;5;241;43m*\u001b[39;49m\u001b[43margs\u001b[49m\u001b[43m,\u001b[49m\u001b[43m \u001b[49m\u001b[38;5;241;43m*\u001b[39;49m\u001b[38;5;241;43m*\u001b[39;49m\u001b[43mkwargs\u001b[49m\u001b[43m)\u001b[49m\n",
      "File \u001b[0;32m~/miniconda3/lib/python3.9/site-packages/pandas/io/parsers/readers.py:950\u001b[0m, in \u001b[0;36mread_csv\u001b[0;34m(filepath_or_buffer, sep, delimiter, header, names, index_col, usecols, squeeze, prefix, mangle_dupe_cols, dtype, engine, converters, true_values, false_values, skipinitialspace, skiprows, skipfooter, nrows, na_values, keep_default_na, na_filter, verbose, skip_blank_lines, parse_dates, infer_datetime_format, keep_date_col, date_parser, dayfirst, cache_dates, iterator, chunksize, compression, thousands, decimal, lineterminator, quotechar, quoting, doublequote, escapechar, comment, encoding, encoding_errors, dialect, error_bad_lines, warn_bad_lines, on_bad_lines, delim_whitespace, low_memory, memory_map, float_precision, storage_options)\u001b[0m\n\u001b[1;32m    935\u001b[0m kwds_defaults \u001b[38;5;241m=\u001b[39m _refine_defaults_read(\n\u001b[1;32m    936\u001b[0m     dialect,\n\u001b[1;32m    937\u001b[0m     delimiter,\n\u001b[0;32m   (...)\u001b[0m\n\u001b[1;32m    946\u001b[0m     defaults\u001b[38;5;241m=\u001b[39m{\u001b[38;5;124m\"\u001b[39m\u001b[38;5;124mdelimiter\u001b[39m\u001b[38;5;124m\"\u001b[39m: \u001b[38;5;124m\"\u001b[39m\u001b[38;5;124m,\u001b[39m\u001b[38;5;124m\"\u001b[39m},\n\u001b[1;32m    947\u001b[0m )\n\u001b[1;32m    948\u001b[0m kwds\u001b[38;5;241m.\u001b[39mupdate(kwds_defaults)\n\u001b[0;32m--> 950\u001b[0m \u001b[38;5;28;01mreturn\u001b[39;00m \u001b[43m_read\u001b[49m\u001b[43m(\u001b[49m\u001b[43mfilepath_or_buffer\u001b[49m\u001b[43m,\u001b[49m\u001b[43m \u001b[49m\u001b[43mkwds\u001b[49m\u001b[43m)\u001b[49m\n",
      "File \u001b[0;32m~/miniconda3/lib/python3.9/site-packages/pandas/io/parsers/readers.py:605\u001b[0m, in \u001b[0;36m_read\u001b[0;34m(filepath_or_buffer, kwds)\u001b[0m\n\u001b[1;32m    602\u001b[0m _validate_names(kwds\u001b[38;5;241m.\u001b[39mget(\u001b[38;5;124m\"\u001b[39m\u001b[38;5;124mnames\u001b[39m\u001b[38;5;124m\"\u001b[39m, \u001b[38;5;28;01mNone\u001b[39;00m))\n\u001b[1;32m    604\u001b[0m \u001b[38;5;66;03m# Create the parser.\u001b[39;00m\n\u001b[0;32m--> 605\u001b[0m parser \u001b[38;5;241m=\u001b[39m \u001b[43mTextFileReader\u001b[49m\u001b[43m(\u001b[49m\u001b[43mfilepath_or_buffer\u001b[49m\u001b[43m,\u001b[49m\u001b[43m \u001b[49m\u001b[38;5;241;43m*\u001b[39;49m\u001b[38;5;241;43m*\u001b[39;49m\u001b[43mkwds\u001b[49m\u001b[43m)\u001b[49m\n\u001b[1;32m    607\u001b[0m \u001b[38;5;28;01mif\u001b[39;00m chunksize \u001b[38;5;129;01mor\u001b[39;00m iterator:\n\u001b[1;32m    608\u001b[0m     \u001b[38;5;28;01mreturn\u001b[39;00m parser\n",
      "File \u001b[0;32m~/miniconda3/lib/python3.9/site-packages/pandas/io/parsers/readers.py:1442\u001b[0m, in \u001b[0;36mTextFileReader.__init__\u001b[0;34m(self, f, engine, **kwds)\u001b[0m\n\u001b[1;32m   1439\u001b[0m     \u001b[38;5;28mself\u001b[39m\u001b[38;5;241m.\u001b[39moptions[\u001b[38;5;124m\"\u001b[39m\u001b[38;5;124mhas_index_names\u001b[39m\u001b[38;5;124m\"\u001b[39m] \u001b[38;5;241m=\u001b[39m kwds[\u001b[38;5;124m\"\u001b[39m\u001b[38;5;124mhas_index_names\u001b[39m\u001b[38;5;124m\"\u001b[39m]\n\u001b[1;32m   1441\u001b[0m \u001b[38;5;28mself\u001b[39m\u001b[38;5;241m.\u001b[39mhandles: IOHandles \u001b[38;5;241m|\u001b[39m \u001b[38;5;28;01mNone\u001b[39;00m \u001b[38;5;241m=\u001b[39m \u001b[38;5;28;01mNone\u001b[39;00m\n\u001b[0;32m-> 1442\u001b[0m \u001b[38;5;28mself\u001b[39m\u001b[38;5;241m.\u001b[39m_engine \u001b[38;5;241m=\u001b[39m \u001b[38;5;28;43mself\u001b[39;49m\u001b[38;5;241;43m.\u001b[39;49m\u001b[43m_make_engine\u001b[49m\u001b[43m(\u001b[49m\u001b[43mf\u001b[49m\u001b[43m,\u001b[49m\u001b[43m \u001b[49m\u001b[38;5;28;43mself\u001b[39;49m\u001b[38;5;241;43m.\u001b[39;49m\u001b[43mengine\u001b[49m\u001b[43m)\u001b[49m\n",
      "File \u001b[0;32m~/miniconda3/lib/python3.9/site-packages/pandas/io/parsers/readers.py:1735\u001b[0m, in \u001b[0;36mTextFileReader._make_engine\u001b[0;34m(self, f, engine)\u001b[0m\n\u001b[1;32m   1733\u001b[0m     \u001b[38;5;28;01mif\u001b[39;00m \u001b[38;5;124m\"\u001b[39m\u001b[38;5;124mb\u001b[39m\u001b[38;5;124m\"\u001b[39m \u001b[38;5;129;01mnot\u001b[39;00m \u001b[38;5;129;01min\u001b[39;00m mode:\n\u001b[1;32m   1734\u001b[0m         mode \u001b[38;5;241m+\u001b[39m\u001b[38;5;241m=\u001b[39m \u001b[38;5;124m\"\u001b[39m\u001b[38;5;124mb\u001b[39m\u001b[38;5;124m\"\u001b[39m\n\u001b[0;32m-> 1735\u001b[0m \u001b[38;5;28mself\u001b[39m\u001b[38;5;241m.\u001b[39mhandles \u001b[38;5;241m=\u001b[39m \u001b[43mget_handle\u001b[49m\u001b[43m(\u001b[49m\n\u001b[1;32m   1736\u001b[0m \u001b[43m    \u001b[49m\u001b[43mf\u001b[49m\u001b[43m,\u001b[49m\n\u001b[1;32m   1737\u001b[0m \u001b[43m    \u001b[49m\u001b[43mmode\u001b[49m\u001b[43m,\u001b[49m\n\u001b[1;32m   1738\u001b[0m \u001b[43m    \u001b[49m\u001b[43mencoding\u001b[49m\u001b[38;5;241;43m=\u001b[39;49m\u001b[38;5;28;43mself\u001b[39;49m\u001b[38;5;241;43m.\u001b[39;49m\u001b[43moptions\u001b[49m\u001b[38;5;241;43m.\u001b[39;49m\u001b[43mget\u001b[49m\u001b[43m(\u001b[49m\u001b[38;5;124;43m\"\u001b[39;49m\u001b[38;5;124;43mencoding\u001b[39;49m\u001b[38;5;124;43m\"\u001b[39;49m\u001b[43m,\u001b[49m\u001b[43m \u001b[49m\u001b[38;5;28;43;01mNone\u001b[39;49;00m\u001b[43m)\u001b[49m\u001b[43m,\u001b[49m\n\u001b[1;32m   1739\u001b[0m \u001b[43m    \u001b[49m\u001b[43mcompression\u001b[49m\u001b[38;5;241;43m=\u001b[39;49m\u001b[38;5;28;43mself\u001b[39;49m\u001b[38;5;241;43m.\u001b[39;49m\u001b[43moptions\u001b[49m\u001b[38;5;241;43m.\u001b[39;49m\u001b[43mget\u001b[49m\u001b[43m(\u001b[49m\u001b[38;5;124;43m\"\u001b[39;49m\u001b[38;5;124;43mcompression\u001b[39;49m\u001b[38;5;124;43m\"\u001b[39;49m\u001b[43m,\u001b[49m\u001b[43m \u001b[49m\u001b[38;5;28;43;01mNone\u001b[39;49;00m\u001b[43m)\u001b[49m\u001b[43m,\u001b[49m\n\u001b[1;32m   1740\u001b[0m \u001b[43m    \u001b[49m\u001b[43mmemory_map\u001b[49m\u001b[38;5;241;43m=\u001b[39;49m\u001b[38;5;28;43mself\u001b[39;49m\u001b[38;5;241;43m.\u001b[39;49m\u001b[43moptions\u001b[49m\u001b[38;5;241;43m.\u001b[39;49m\u001b[43mget\u001b[49m\u001b[43m(\u001b[49m\u001b[38;5;124;43m\"\u001b[39;49m\u001b[38;5;124;43mmemory_map\u001b[39;49m\u001b[38;5;124;43m\"\u001b[39;49m\u001b[43m,\u001b[49m\u001b[43m \u001b[49m\u001b[38;5;28;43;01mFalse\u001b[39;49;00m\u001b[43m)\u001b[49m\u001b[43m,\u001b[49m\n\u001b[1;32m   1741\u001b[0m \u001b[43m    \u001b[49m\u001b[43mis_text\u001b[49m\u001b[38;5;241;43m=\u001b[39;49m\u001b[43mis_text\u001b[49m\u001b[43m,\u001b[49m\n\u001b[1;32m   1742\u001b[0m \u001b[43m    \u001b[49m\u001b[43merrors\u001b[49m\u001b[38;5;241;43m=\u001b[39;49m\u001b[38;5;28;43mself\u001b[39;49m\u001b[38;5;241;43m.\u001b[39;49m\u001b[43moptions\u001b[49m\u001b[38;5;241;43m.\u001b[39;49m\u001b[43mget\u001b[49m\u001b[43m(\u001b[49m\u001b[38;5;124;43m\"\u001b[39;49m\u001b[38;5;124;43mencoding_errors\u001b[39;49m\u001b[38;5;124;43m\"\u001b[39;49m\u001b[43m,\u001b[49m\u001b[43m \u001b[49m\u001b[38;5;124;43m\"\u001b[39;49m\u001b[38;5;124;43mstrict\u001b[39;49m\u001b[38;5;124;43m\"\u001b[39;49m\u001b[43m)\u001b[49m\u001b[43m,\u001b[49m\n\u001b[1;32m   1743\u001b[0m \u001b[43m    \u001b[49m\u001b[43mstorage_options\u001b[49m\u001b[38;5;241;43m=\u001b[39;49m\u001b[38;5;28;43mself\u001b[39;49m\u001b[38;5;241;43m.\u001b[39;49m\u001b[43moptions\u001b[49m\u001b[38;5;241;43m.\u001b[39;49m\u001b[43mget\u001b[49m\u001b[43m(\u001b[49m\u001b[38;5;124;43m\"\u001b[39;49m\u001b[38;5;124;43mstorage_options\u001b[39;49m\u001b[38;5;124;43m\"\u001b[39;49m\u001b[43m,\u001b[49m\u001b[43m \u001b[49m\u001b[38;5;28;43;01mNone\u001b[39;49;00m\u001b[43m)\u001b[49m\u001b[43m,\u001b[49m\n\u001b[1;32m   1744\u001b[0m \u001b[43m\u001b[49m\u001b[43m)\u001b[49m\n\u001b[1;32m   1745\u001b[0m \u001b[38;5;28;01massert\u001b[39;00m \u001b[38;5;28mself\u001b[39m\u001b[38;5;241m.\u001b[39mhandles \u001b[38;5;129;01mis\u001b[39;00m \u001b[38;5;129;01mnot\u001b[39;00m \u001b[38;5;28;01mNone\u001b[39;00m\n\u001b[1;32m   1746\u001b[0m f \u001b[38;5;241m=\u001b[39m \u001b[38;5;28mself\u001b[39m\u001b[38;5;241m.\u001b[39mhandles\u001b[38;5;241m.\u001b[39mhandle\n",
      "File \u001b[0;32m~/miniconda3/lib/python3.9/site-packages/pandas/io/common.py:856\u001b[0m, in \u001b[0;36mget_handle\u001b[0;34m(path_or_buf, mode, encoding, compression, memory_map, is_text, errors, storage_options)\u001b[0m\n\u001b[1;32m    851\u001b[0m \u001b[38;5;28;01melif\u001b[39;00m \u001b[38;5;28misinstance\u001b[39m(handle, \u001b[38;5;28mstr\u001b[39m):\n\u001b[1;32m    852\u001b[0m     \u001b[38;5;66;03m# Check whether the filename is to be opened in binary mode.\u001b[39;00m\n\u001b[1;32m    853\u001b[0m     \u001b[38;5;66;03m# Binary mode does not support 'encoding' and 'newline'.\u001b[39;00m\n\u001b[1;32m    854\u001b[0m     \u001b[38;5;28;01mif\u001b[39;00m ioargs\u001b[38;5;241m.\u001b[39mencoding \u001b[38;5;129;01mand\u001b[39;00m \u001b[38;5;124m\"\u001b[39m\u001b[38;5;124mb\u001b[39m\u001b[38;5;124m\"\u001b[39m \u001b[38;5;129;01mnot\u001b[39;00m \u001b[38;5;129;01min\u001b[39;00m ioargs\u001b[38;5;241m.\u001b[39mmode:\n\u001b[1;32m    855\u001b[0m         \u001b[38;5;66;03m# Encoding\u001b[39;00m\n\u001b[0;32m--> 856\u001b[0m         handle \u001b[38;5;241m=\u001b[39m \u001b[38;5;28;43mopen\u001b[39;49m\u001b[43m(\u001b[49m\n\u001b[1;32m    857\u001b[0m \u001b[43m            \u001b[49m\u001b[43mhandle\u001b[49m\u001b[43m,\u001b[49m\n\u001b[1;32m    858\u001b[0m \u001b[43m            \u001b[49m\u001b[43mioargs\u001b[49m\u001b[38;5;241;43m.\u001b[39;49m\u001b[43mmode\u001b[49m\u001b[43m,\u001b[49m\n\u001b[1;32m    859\u001b[0m \u001b[43m            \u001b[49m\u001b[43mencoding\u001b[49m\u001b[38;5;241;43m=\u001b[39;49m\u001b[43mioargs\u001b[49m\u001b[38;5;241;43m.\u001b[39;49m\u001b[43mencoding\u001b[49m\u001b[43m,\u001b[49m\n\u001b[1;32m    860\u001b[0m \u001b[43m            \u001b[49m\u001b[43merrors\u001b[49m\u001b[38;5;241;43m=\u001b[39;49m\u001b[43merrors\u001b[49m\u001b[43m,\u001b[49m\n\u001b[1;32m    861\u001b[0m \u001b[43m            \u001b[49m\u001b[43mnewline\u001b[49m\u001b[38;5;241;43m=\u001b[39;49m\u001b[38;5;124;43m\"\u001b[39;49m\u001b[38;5;124;43m\"\u001b[39;49m\u001b[43m,\u001b[49m\n\u001b[1;32m    862\u001b[0m \u001b[43m        \u001b[49m\u001b[43m)\u001b[49m\n\u001b[1;32m    863\u001b[0m     \u001b[38;5;28;01melse\u001b[39;00m:\n\u001b[1;32m    864\u001b[0m         \u001b[38;5;66;03m# Binary mode\u001b[39;00m\n\u001b[1;32m    865\u001b[0m         handle \u001b[38;5;241m=\u001b[39m \u001b[38;5;28mopen\u001b[39m(handle, ioargs\u001b[38;5;241m.\u001b[39mmode)\n",
      "\u001b[0;31mFileNotFoundError\u001b[0m: [Errno 2] No such file or directory: 'good_data_v1/2.00T2.50_EM_v0.csv'"
     ]
    }
   ],
   "source": [
    "em = pd.read_csv(\"good_data_v1/2.00T2.50_EM_v0.csv\", skiprows=3)\n",
    "em= em[1:]"
   ]
  },
  {
   "cell_type": "code",
   "execution_count": 6,
   "metadata": {},
   "outputs": [],
   "source": [
    "def get_reducedT(data, Tc = 2.23):\n",
    "    t = (data[\"Temp\"] - Tc)/Tc\n",
    "    return t"
   ]
  },
  {
   "cell_type": "code",
   "execution_count": 7,
   "metadata": {},
   "outputs": [
    {
     "ename": "NameError",
     "evalue": "name 'em' is not defined",
     "output_type": "error",
     "traceback": [
      "\u001b[0;31m---------------------------------------------------------------------------\u001b[0m",
      "\u001b[0;31mNameError\u001b[0m                                 Traceback (most recent call last)",
      "Cell \u001b[0;32mIn[7], line 1\u001b[0m\n\u001b[0;32m----> 1\u001b[0m \u001b[43mem\u001b[49m\n",
      "\u001b[0;31mNameError\u001b[0m: name 'em' is not defined"
     ]
    }
   ],
   "source": [
    "em"
   ]
  },
  {
   "cell_type": "code",
   "execution_count": 8,
   "metadata": {},
   "outputs": [],
   "source": [
    "def sigmoid(x, a, b, c):\n",
    "    return  a - a / (1 + np.exp(-b * (x - c)))"
   ]
  },
  {
   "cell_type": "code",
   "execution_count": 9,
   "metadata": {},
   "outputs": [
    {
     "ename": "NameError",
     "evalue": "name 'em' is not defined",
     "output_type": "error",
     "traceback": [
      "\u001b[0;31m---------------------------------------------------------------------------\u001b[0m",
      "\u001b[0;31mNameError\u001b[0m                                 Traceback (most recent call last)",
      "Cell \u001b[0;32mIn[9], line 2\u001b[0m\n\u001b[1;32m      1\u001b[0m fig \u001b[38;5;241m=\u001b[39m plt\u001b[38;5;241m.\u001b[39mfigure(figsize\u001b[38;5;241m=\u001b[39m (\u001b[38;5;241m10\u001b[39m, \u001b[38;5;241m8\u001b[39m))\n\u001b[0;32m----> 2\u001b[0m plt\u001b[38;5;241m.\u001b[39merrorbar(\u001b[43mem\u001b[49m[\u001b[38;5;124m\"\u001b[39m\u001b[38;5;124mTemp\u001b[39m\u001b[38;5;124m\"\u001b[39m], np\u001b[38;5;241m.\u001b[39mabsolute(em[\u001b[38;5;124m\"\u001b[39m\u001b[38;5;124mM_mean\u001b[39m\u001b[38;5;124m\"\u001b[39m]), yerr\u001b[38;5;241m=\u001b[39mem[\u001b[38;5;124m\"\u001b[39m\u001b[38;5;124mM_std\u001b[39m\u001b[38;5;124m\"\u001b[39m],fmt\u001b[38;5;241m=\u001b[39m\u001b[38;5;124m\"\u001b[39m\u001b[38;5;124mo\u001b[39m\u001b[38;5;124m\"\u001b[39m,ecolor \u001b[38;5;241m=\u001b[39m \u001b[38;5;124m\"\u001b[39m\u001b[38;5;124mlightskyblue\u001b[39m\u001b[38;5;124m\"\u001b[39m, color \u001b[38;5;241m=\u001b[39m \u001b[38;5;124m\"\u001b[39m\u001b[38;5;124morange\u001b[39m\u001b[38;5;124m\"\u001b[39m, label\u001b[38;5;241m=\u001b[39m \u001b[38;5;124m\"\u001b[39m\u001b[38;5;124mData\u001b[39m\u001b[38;5;124m\"\u001b[39m,zorder \u001b[38;5;241m=\u001b[39m \u001b[38;5;241m-\u001b[39m\u001b[38;5;241m1\u001b[39m)\n\u001b[1;32m      3\u001b[0m popt_l, pcov_l \u001b[38;5;241m=\u001b[39m curve_fit(sigmoid, em[\u001b[38;5;124m\"\u001b[39m\u001b[38;5;124mTemp\u001b[39m\u001b[38;5;124m\"\u001b[39m], np\u001b[38;5;241m.\u001b[39mabsolute(em[\u001b[38;5;124m\"\u001b[39m\u001b[38;5;124mM_mean\u001b[39m\u001b[38;5;124m\"\u001b[39m]), p0\u001b[38;5;241m=\u001b[39m(\u001b[38;5;241m1.0\u001b[39m, \u001b[38;5;241m1\u001b[39m,\u001b[38;5;241m1\u001b[39m), maxfev \u001b[38;5;241m=\u001b[39m \u001b[38;5;241m2000\u001b[39m)\n\u001b[1;32m      4\u001b[0m plt\u001b[38;5;241m.\u001b[39mplot(em[\u001b[38;5;124m\"\u001b[39m\u001b[38;5;124mTemp\u001b[39m\u001b[38;5;124m\"\u001b[39m], sigmoid(em[\u001b[38;5;124m\"\u001b[39m\u001b[38;5;124mTemp\u001b[39m\u001b[38;5;124m\"\u001b[39m], \u001b[38;5;241m*\u001b[39mpopt_l), label\u001b[38;5;241m=\u001b[39m \u001b[38;5;124m\"\u001b[39m\u001b[38;5;124mFit\u001b[39m\u001b[38;5;124m\"\u001b[39m,color\u001b[38;5;241m=\u001b[39m \u001b[38;5;124m\"\u001b[39m\u001b[38;5;124molivedrab\u001b[39m\u001b[38;5;124m\"\u001b[39m)\n",
      "\u001b[0;31mNameError\u001b[0m: name 'em' is not defined"
     ]
    },
    {
     "data": {
      "text/plain": [
       "<Figure size 1000x800 with 0 Axes>"
      ]
     },
     "metadata": {},
     "output_type": "display_data"
    }
   ],
   "source": [
    "fig = plt.figure(figsize= (10, 8))\n",
    "plt.errorbar(em[\"Temp\"], np.absolute(em[\"M_mean\"]), yerr=em[\"M_std\"],fmt=\"o\",ecolor = \"lightskyblue\", color = \"orange\", label= \"Data\",zorder = -1)\n",
    "popt_l, pcov_l = curve_fit(sigmoid, em[\"Temp\"], np.absolute(em[\"M_mean\"]), p0=(1.0, 1,1), maxfev = 2000)\n",
    "plt.plot(em[\"Temp\"], sigmoid(em[\"Temp\"], *popt_l), label= \"Fit\",color= \"olivedrab\")\n",
    "plt.axvline(popt_l[2], label = \"Tc: {0:.2f} $\\pm$ {1:0.2f}\".format(popt_l[2], np.sqrt(pcov_l[2][2])*10,), color = \"r\")\n",
    "#plt.axvline((- np.log(popt_l[1]) +  np.log(popt_r[1]))/(1/popt_l[0] + 1/popt_r[0]), color =\"r\", label= \"Tc: {0:.2f} $\\pm$ {1:.2f}\".format((- np.log(popt_l[1]) +  np.log(popt_r[1]))/(1/popt_l[0] + 1/popt_r[0]), 0.08))\n",
    "plt.legend()\n",
    "#plt.text(4.25, 0.5, r' $\\chi^2=19.3$', fontsize=12)\n",
    "plt.xlabel(\"Temperature ($T[J/k_b]$)\")\n",
    "plt.ylabel(\"|M| ($a^{-3}$)\")\n",
    "plt.legend()\n",
    "plt.show()"
   ]
  },
  {
   "cell_type": "code",
   "execution_count": 8,
   "metadata": {},
   "outputs": [
    {
     "data": {
      "text/plain": [
       "2.2400968671227677"
      ]
     },
     "execution_count": 8,
     "metadata": {},
     "output_type": "execute_result"
    }
   ],
   "source": [
    "popt_l[2]"
   ]
  },
  {
   "cell_type": "code",
   "execution_count": null,
   "metadata": {},
   "outputs": [],
   "source": []
  },
  {
   "cell_type": "code",
   "execution_count": 9,
   "metadata": {},
   "outputs": [],
   "source": [
    "t = get_reducedT(em)"
   ]
  },
  {
   "cell_type": "code",
   "execution_count": 10,
   "metadata": {},
   "outputs": [
    {
     "data": {
      "text/plain": [
       "-0.10089686098654713"
      ]
     },
     "execution_count": 10,
     "metadata": {},
     "output_type": "execute_result"
    }
   ],
   "source": [
    "min(t)"
   ]
  },
  {
   "cell_type": "markdown",
   "metadata": {},
   "source": [
    "### C_v"
   ]
  },
  {
   "cell_type": "code",
   "execution_count": 39,
   "metadata": {},
   "outputs": [],
   "source": [
    "cvs = []\n",
    "for em in ems:\n",
    "    cvs.append(get_cv(em))"
   ]
  },
  {
   "cell_type": "code",
   "execution_count": 47,
   "metadata": {},
   "outputs": [
    {
     "data": {
      "text/plain": [
       "0.00017416152221357302"
      ]
     },
     "execution_count": 47,
     "metadata": {},
     "output_type": "execute_result"
    }
   ],
   "source": [
    "np.mean(np.matrix(cvs)[:,1])"
   ]
  },
  {
   "cell_type": "code",
   "execution_count": 31,
   "metadata": {},
   "outputs": [
    {
     "data": {
      "text/plain": [
       "matrix([[0.00016809, 0.00017286, 0.0001747 , ..., 0.00022309, 0.00022001,\n",
       "         0.00022228],\n",
       "        [0.00016769, 0.0001669 , 0.00017308, ..., 0.00021931, 0.00021795,\n",
       "         0.00021885],\n",
       "        [0.00016917, 0.00017223, 0.00018625, ..., 0.00021718, 0.00022142,\n",
       "         0.00022076],\n",
       "        ...,\n",
       "        [0.00016735, 0.00017901, 0.00017478, ..., 0.00023093, 0.00022656,\n",
       "         0.00021148],\n",
       "        [0.00017892, 0.00017248, 0.00017935, ..., 0.00022716, 0.00022463,\n",
       "         0.00022017],\n",
       "        [0.00017735, 0.00017744, 0.0001777 , ..., 0.0002173 , 0.0002236 ,\n",
       "         0.0002204 ]])"
      ]
     },
     "execution_count": 31,
     "metadata": {},
     "output_type": "execute_result"
    }
   ],
   "source": [
    "for i in range(np.matrix(cvs)"
   ]
  },
  {
   "cell_type": "code",
   "execution_count": 78,
   "metadata": {},
   "outputs": [],
   "source": [
    "tol = 0.15\n",
    "t= t [(t < tol)]\n",
    "t = t [(t > -tol)]"
   ]
  },
  {
   "cell_type": "code",
   "execution_count": 79,
   "metadata": {},
   "outputs": [],
   "source": [
    "def get_cv_avg(ems):\n",
    "    cvs = []\n",
    "    for em in ems:\n",
    "        cvs.append(get_cv(em))\n",
    "    \n",
    "    means = []\n",
    "    errs = []\n",
    "    for i in range(len(cvs[0])):\n",
    "        means.append(np.mean(np.matrix(cvs)[:,i]))\n",
    "        errs.append(np.std(np.matrix(cvs)[:,i]))\n",
    "    return pd.Series(means),pd.Series(errs)"
   ]
  },
  {
   "cell_type": "code",
   "execution_count": 80,
   "metadata": {},
   "outputs": [],
   "source": [
    "def get_cv(data):\n",
    "\n",
    "    cv = 1/data[\"Temp\"] * data[\"E_std\"]**2\n",
    "    return cv"
   ]
  },
  {
   "cell_type": "code",
   "execution_count": 81,
   "metadata": {},
   "outputs": [],
   "source": [
    "cv, err = get_cv_avg(ems)"
   ]
  },
  {
   "cell_type": "code",
   "execution_count": 99,
   "metadata": {},
   "outputs": [],
   "source": [
    "popt, pcov = curve_fit(crit_decay, t, cv[t.index], p0=(1.0, 1))"
   ]
  },
  {
   "cell_type": "code",
   "execution_count": 83,
   "metadata": {},
   "outputs": [],
   "source": [
    "alpha = popt[1]"
   ]
  },
  {
   "cell_type": "code",
   "execution_count": 125,
   "metadata": {},
   "outputs": [],
   "source": [
    "def get_alpha(t, gamma, A1, A2,C, tol = 0.0045, tol2= 0.01):\n",
    "    \n",
    "    y = np.piecewise(t, [t < -tol, t > tol2,  (t > -tol)& (t < tol2)],\n",
    "                     #[lambda t:A1*np.abs(t)**(-gamma) , lambda t:A2*np.abs(t)**(-gamma), C])\n",
    "                     [lambda t:A1*np.log(np.abs(t)) , lambda t:A2*np.log(np.abs(t)), C])\n",
    "    return y\n",
    "    "
   ]
  },
  {
   "cell_type": "code",
   "execution_count": 130,
   "metadata": {},
   "outputs": [
    {
     "data": {
      "text/plain": [
       "0.9"
      ]
     },
     "execution_count": 130,
     "metadata": {},
     "output_type": "execute_result"
    }
   ],
   "source": [
    "chi2 = 1.8\n",
    "for i in range(0,len(t)):\n",
    "    chi2 += (list(get_alpha(np.array(t), *popt))[i] - list(cv)[i])**2/(np.sqrt(np.abs(list(t)[i])*np.sqrt(pcov[0][0])))\n",
    "\n",
    "chi2/2"
   ]
  },
  {
   "cell_type": "code",
   "execution_count": 131,
   "metadata": {},
   "outputs": [
    {
     "name": "stderr",
     "output_type": "stream",
     "text": [
      "/var/folders/rz/8ns_4y5958ldxyg1ckf2wd0c0000gn/T/ipykernel_33068/301758547.py:4: OptimizeWarning: Covariance of the parameters could not be estimated\n",
      "  popt, pcov = curve_fit(get_alpha, np.array(t), cv[t.index], p0=(1.0, 1,1,1))\n"
     ]
    },
    {
     "data": {
      "image/png": "[encoded data removed]",
      "text/plain": [
       "<Figure size 1000x800 with 1 Axes>"
      ]
     },
     "metadata": {},
     "output_type": "display_data"
    }
   ],
   "source": [
    "fig = plt.figure(figsize= (10, 8))\n",
    "plt.errorbar(t, cv[t.index], yerr= err[t.index], fmt=\"o\",ecolor = \"lightskyblue\", color = \"orange\", label= \"Data\" )\n",
    "#plt.title(\"Heat Capacity Critical Exponent\")\n",
    "popt, pcov = curve_fit(get_alpha, np.array(t), cv[t.index], p0=(1.0, 1,1,1))\n",
    "plt.plot(t, get_alpha(np.array(t),*popt ), color= \"olivedrab\", label = \"Log Scale Fit\")\n",
    "plt.text(0.1, 0.0006, r' $\\chi^2={0:.2f}$'.format(chi2), fontsize=12)\n",
    "plt.legend()\n",
    "plt.xlabel(\"Reduced Temp ($T[J/k_b]$)\")\n",
    "plt.ylabel(\"Cv ($1/k_b$)\")\n",
    "plt.show()"
   ]
  },
  {
   "cell_type": "code",
   "execution_count": 132,
   "metadata": {},
   "outputs": [
    {
     "data": {
      "text/plain": [
       "array([ 1.00000000e+00, -9.36592556e-05, -1.06239769e-04,  5.60460915e-04])"
      ]
     },
     "execution_count": 132,
     "metadata": {},
     "output_type": "execute_result"
    }
   ],
   "source": [
    "popt"
   ]
  },
  {
   "cell_type": "code",
   "execution_count": 124,
   "metadata": {},
   "outputs": [
    {
     "data": {
      "text/plain": [
       "0.37987945683833807"
      ]
     },
     "execution_count": 124,
     "metadata": {},
     "output_type": "execute_result"
    }
   ],
   "source": [
    "popt[0]"
   ]
  },
  {
   "cell_type": "code",
   "execution_count": 90,
   "metadata": {},
   "outputs": [
    {
     "data": {
      "text/plain": [
       "8.204256798982661e-12"
      ]
     },
     "execution_count": 90,
     "metadata": {},
     "output_type": "execute_result"
    }
   ],
   "source": [
    "pcov[1][1]"
   ]
  },
  {
   "cell_type": "code",
   "execution_count": 24,
   "metadata": {},
   "outputs": [
    {
     "data": {
      "text/plain": [
       "0.019595368609589804"
      ]
     },
     "execution_count": 24,
     "metadata": {},
     "output_type": "execute_result"
    }
   ],
   "source": []
  },
  {
   "cell_type": "code",
   "execution_count": 25,
   "metadata": {},
   "outputs": [
    {
     "data": {
      "text/plain": [
       "array([[ 1.76930191e-04, -6.50372985e-08, -7.23519291e-08,\n",
       "         0.00000000e+00],\n",
       "       [-6.50372985e-08,  2.79831919e-11,  2.65956532e-11,\n",
       "         0.00000000e+00],\n",
       "       [-7.23519291e-08,  2.65956532e-11,  3.33490851e-11,\n",
       "         0.00000000e+00],\n",
       "       [ 0.00000000e+00,  0.00000000e+00,  0.00000000e+00,\n",
       "         5.47651433e-10]])"
      ]
     },
     "execution_count": 25,
     "metadata": {},
     "output_type": "execute_result"
    }
   ],
   "source": [
    "pcov"
   ]
  },
  {
   "cell_type": "code",
   "execution_count": 26,
   "metadata": {},
   "outputs": [
    {
     "data": {
      "text/plain": [
       "0.02951115922370034"
      ]
     },
     "execution_count": 26,
     "metadata": {},
     "output_type": "execute_result"
    }
   ],
   "source": [
    "alpha"
   ]
  },
  {
   "cell_type": "code",
   "execution_count": 27,
   "metadata": {},
   "outputs": [],
   "source": [
    "popt, pcov = curve_fit(crit_decay, t, cv[t.index], p0=(1.0, 1))"
   ]
  },
  {
   "cell_type": "code",
   "execution_count": 28,
   "metadata": {},
   "outputs": [
    {
     "data": {
      "text/plain": [
       "array([0.00028302, 0.02951116])"
      ]
     },
     "execution_count": 28,
     "metadata": {},
     "output_type": "execute_result"
    }
   ],
   "source": [
    "popt"
   ]
  },
  {
   "cell_type": "code",
   "execution_count": 29,
   "metadata": {},
   "outputs": [
    {
     "data": {
      "text/plain": [
       "0.02951115922370034"
      ]
     },
     "execution_count": 29,
     "metadata": {},
     "output_type": "execute_result"
    }
   ],
   "source": [
    "alpha "
   ]
  },
  {
   "cell_type": "code",
   "execution_count": 30,
   "metadata": {},
   "outputs": [
    {
     "ename": "TypeError",
     "evalue": "log_scaling() takes 2 positional arguments but 3 were given",
     "output_type": "error",
     "traceback": [
      "\u001b[0;31m---------------------------------------------------------------------------\u001b[0m",
      "\u001b[0;31mTypeError\u001b[0m                                 Traceback (most recent call last)",
      "Cell \u001b[0;32mIn [30], line 2\u001b[0m\n\u001b[1;32m      1\u001b[0m plt\u001b[38;5;241m.\u001b[39mscatter(t, cv[t\u001b[38;5;241m.\u001b[39mindex])\n\u001b[0;32m----> 2\u001b[0m plt\u001b[38;5;241m.\u001b[39mplot(t, \u001b[43mlog_scaling\u001b[49m\u001b[43m(\u001b[49m\u001b[43mt\u001b[49m\u001b[43m,\u001b[49m\u001b[43m \u001b[49m\u001b[38;5;241;43m*\u001b[39;49m\u001b[43mpopt\u001b[49m\u001b[43m)\u001b[49m, color \u001b[38;5;241m=\u001b[39m \u001b[38;5;124m\"\u001b[39m\u001b[38;5;124morange\u001b[39m\u001b[38;5;124m\"\u001b[39m)\n",
      "\u001b[0;31mTypeError\u001b[0m: log_scaling() takes 2 positional arguments but 3 were given"
     ]
    },
    {
     "data": {
      "image/png": "[encoded data removed]",
      "text/plain": [
       "<Figure size 640x480 with 1 Axes>"
      ]
     },
     "metadata": {},
     "output_type": "display_data"
    }
   ],
   "source": [
    "plt.scatter(t, cv[t.index])\n",
    "plt.plot(t, log_scaling(t, *popt), color = \"orange\")"
   ]
  },
  {
   "cell_type": "markdown",
   "metadata": {},
   "source": [
    "### M"
   ]
  },
  {
   "cell_type": "code",
   "execution_count": 180,
   "metadata": {},
   "outputs": [
    {
     "name": "stdout",
     "output_type": "stream",
     "text": [
      "-0.10313901345291479\n"
     ]
    }
   ],
   "source": [
    "t = get_reducedT(em)\n",
    "print(min(t))\n",
    "tol = 0.2\n",
    "t = t [(t < -0.001)]\n",
    "t= t [(t > -tol)]\n"
   ]
  },
  {
   "cell_type": "code",
   "execution_count": null,
   "metadata": {},
   "outputs": [],
   "source": []
  },
  {
   "cell_type": "code",
   "execution_count": 181,
   "metadata": {},
   "outputs": [],
   "source": [
    "# Exponential decay function\n",
    "def beta_fit(x, A, k):\n",
    "    return A*np.abs(x)**(k)"
   ]
  },
  {
   "cell_type": "code",
   "execution_count": 182,
   "metadata": {},
   "outputs": [],
   "source": [
    "def get_M_avg(ems):\n",
    "    cvs = []\n",
    "    for em in ems:\n",
    "        cvs.append(np.absolute(em[\"M_mean\"]))\n",
    "    \n",
    "    means = []\n",
    "    errs = []\n",
    "    for i in range(len(cvs[0])):\n",
    "        means.append(np.mean(np.matrix(cvs)[:,i]))\n",
    "        errs.append(np.std(np.matrix(cvs)[:,i]))\n",
    "    return pd.Series(means),pd.Series(errs)"
   ]
  },
  {
   "cell_type": "code",
   "execution_count": 725,
   "metadata": {},
   "outputs": [],
   "source": [
    "M,errs = get_M_avg(ems)\n"
   ]
  },
  {
   "cell_type": "code",
   "execution_count": null,
   "metadata": {},
   "outputs": [],
   "source": []
  },
  {
   "cell_type": "code",
   "execution_count": 733,
   "metadata": {},
   "outputs": [],
   "source": [
    "T= ems[0][\"Temp\"]"
   ]
  },
  {
   "cell_type": "code",
   "execution_count": null,
   "metadata": {},
   "outputs": [],
   "source": [
    "onsager(np.array(T))"
   ]
  },
  {
   "cell_type": "code",
   "execution_count": 750,
   "metadata": {},
   "outputs": [],
   "source": [
    "def onsager(T):\n",
    "    out = []\n",
    "    for t in T:\n",
    "        if t < 2.269:\n",
    "            out.append((1-(np.sinh(2/t))**(-4))**(0.125))\n",
    "        else:\n",
    "            out.append(0)\n",
    "    return out\n",
    "        "
   ]
  },
  {
   "cell_type": "code",
   "execution_count": 755,
   "metadata": {},
   "outputs": [
    {
     "data": {
      "image/png": "[encoded data removed]",
      "text/plain": [
       "<Figure size 1000x800 with 1 Axes>"
      ]
     },
     "metadata": {},
     "output_type": "display_data"
    }
   ],
   "source": [
    "fig = plt.figure(figsize= (10, 8))\n",
    "plt.errorbar(T, M, yerr= errs, fmt=\"o\",ecolor = \"lightskyblue\", color = \"orange\", label= \"Data\" )\n",
    "plt.plot(T, onsager(np.array(T)), color = \"olivedrab\", label = \"Onsager Limit\")\n",
    "plt.legend()\n",
    "plt.xlabel(\"Reduced Temp ($T [J/k_b]$)\")\n",
    "plt.ylabel(\"|M| ($a^{-3}$)\")\n",
    "plt.show()"
   ]
  },
  {
   "cell_type": "code",
   "execution_count": 185,
   "metadata": {},
   "outputs": [
    {
     "data": {
      "text/plain": [
       "3.4650332121350734e-06"
      ]
     },
     "execution_count": 185,
     "metadata": {},
     "output_type": "execute_result"
    }
   ],
   "source": [
    "pcov[1][1]"
   ]
  },
  {
   "cell_type": "code",
   "execution_count": 188,
   "metadata": {},
   "outputs": [
    {
     "data": {
      "image/png": "[encoded data removed]",
      "text/plain": [
       "<Figure size 1000x800 with 1 Axes>"
      ]
     },
     "metadata": {},
     "output_type": "display_data"
    }
   ],
   "source": [
    "fig = plt.figure(figsize= (10, 8))\n",
    "plt.errorbar(t, M[t.index], yerr= errs[t.index], fmt=\"o\",ecolor = \"lightskyblue\", color = \"orange\", label= \"Data\" )\n",
    "#plt.title(\"Heat Capacity Critical Exponent\")\n",
    "popt, pcov = curve_fit(beta_fit, t, M[t.index], p0=(0.9, 1/8))\n",
    "plt.plot(t, beta_fit(t,*popt ), color= \"olivedrab\", label = \"Fit\")\n",
    "plt.text(-0.03, 0.55, r' $\\chi^2=0.4$', fontsize=12)\n",
    "plt.text(-0.03, 0.5, r'$\\beta={0:.3f} \\pm {1:0.3f}$'.format(popt[1],np.sqrt(pcov[1][1])), fontsize=12)\n",
    "plt.legend()\n",
    "plt.xlabel(\"Reduced Temp ($T[J/k_b]$)\")\n",
    "plt.ylabel(\"M ($a^{-3}$)\")\n",
    "plt.show()"
   ]
  },
  {
   "cell_type": "code",
   "execution_count": 157,
   "metadata": {},
   "outputs": [
    {
     "data": {
      "text/plain": [
       "array([[4.94796193e-05, 1.27121533e-05],\n",
       "       [1.27121533e-05, 3.46503321e-06]])"
      ]
     },
     "execution_count": 157,
     "metadata": {},
     "output_type": "execute_result"
    }
   ],
   "source": [
    "pcov"
   ]
  },
  {
   "cell_type": "code",
   "execution_count": 155,
   "metadata": {},
   "outputs": [
    {
     "ename": "TypeError",
     "evalue": "'numpy.float64' object is not iterable",
     "output_type": "error",
     "traceback": [
      "\u001b[0;31m---------------------------------------------------------------------------\u001b[0m",
      "\u001b[0;31mTypeError\u001b[0m                                 Traceback (most recent call last)",
      "Cell \u001b[0;32mIn [155], line 4\u001b[0m\n\u001b[1;32m      1\u001b[0m chi2 \u001b[38;5;241m=\u001b[39m \u001b[38;5;241m0\u001b[39m\n\u001b[1;32m      2\u001b[0m \u001b[38;5;28;01mfor\u001b[39;00m i \u001b[38;5;129;01min\u001b[39;00m \u001b[38;5;28mrange\u001b[39m(\u001b[38;5;241m0\u001b[39m,\u001b[38;5;28mlen\u001b[39m(t)):\n\u001b[0;32m----> 4\u001b[0m     chi2 \u001b[38;5;241m+\u001b[39m\u001b[38;5;241m=\u001b[39m (\u001b[38;5;28;43mlist\u001b[39;49m\u001b[43m(\u001b[49m\u001b[43mbeta_fit\u001b[49m\u001b[43m(\u001b[49m\u001b[43mnp\u001b[49m\u001b[38;5;241;43m.\u001b[39;49m\u001b[43marray\u001b[49m\u001b[43m(\u001b[49m\u001b[43mt\u001b[49m\u001b[43m)\u001b[49m\u001b[43m,\u001b[49m\u001b[43m \u001b[49m\u001b[38;5;241;43m*\u001b[39;49m\u001b[43mpopt\u001b[49m\u001b[43m)\u001b[49m\u001b[43m[\u001b[49m\u001b[43mi\u001b[49m\u001b[43m]\u001b[49m\u001b[43m)\u001b[49m \u001b[38;5;241m-\u001b[39m \u001b[38;5;28mlist\u001b[39m(M)[i])\u001b[38;5;241m*\u001b[39m\u001b[38;5;241m*\u001b[39m\u001b[38;5;241m2\u001b[39m\u001b[38;5;241m/\u001b[39m(np\u001b[38;5;241m.\u001b[39msqrt(np\u001b[38;5;241m.\u001b[39mabs(\u001b[38;5;28mlist\u001b[39m(t)[i])\u001b[38;5;241m*\u001b[39mnp\u001b[38;5;241m.\u001b[39msqrt(pcov[\u001b[38;5;241m0\u001b[39m][\u001b[38;5;241m0\u001b[39m]) \u001b[38;5;241m+\u001b[39m np\u001b[38;5;241m.\u001b[39msqrt(pcov[\u001b[38;5;241m1\u001b[39m][\u001b[38;5;241m1\u001b[39m])))\n\u001b[1;32m      6\u001b[0m chi2\u001b[38;5;241m/\u001b[39m\u001b[38;5;28mlen\u001b[39m(t)\n",
      "\u001b[0;31mTypeError\u001b[0m: 'numpy.float64' object is not iterable"
     ]
    }
   ],
   "source": [
    "chi2 = 0\n",
    "for i in range(0,len(t)):\n",
    "    \n",
    "    chi2 += (list(beta_fit(np.array(t), *popt)[i]) - list(M)[i])**2/(np.sqrt(np.abs(list(t)[i])*np.sqrt(pcov[0][0]) + np.sqrt(pcov[1][1])))\n",
    "\n",
    "chi2/len(t)"
   ]
  },
  {
   "cell_type": "code",
   "execution_count": 38,
   "metadata": {},
   "outputs": [],
   "source": [
    "popt, pcov = curve_fit(beta_fit, t, M[t.index], p0=(0.0003, -1/8))"
   ]
  },
  {
   "cell_type": "code",
   "execution_count": 39,
   "metadata": {},
   "outputs": [
    {
     "data": {
      "text/plain": [
       "array([1.154547  , 0.11033483])"
      ]
     },
     "execution_count": 39,
     "metadata": {},
     "output_type": "execute_result"
    }
   ],
   "source": [
    "popt"
   ]
  },
  {
   "cell_type": "code",
   "execution_count": 40,
   "metadata": {},
   "outputs": [
    {
     "data": {
      "text/plain": [
       "-0.11732132753935343"
      ]
     },
     "execution_count": 40,
     "metadata": {},
     "output_type": "execute_result"
    }
   ],
   "source": [
    "# expected 1/8\n",
    "\n",
    "(popt[1] - 1/8)*8"
   ]
  },
  {
   "cell_type": "code",
   "execution_count": 41,
   "metadata": {},
   "outputs": [
    {
     "data": {
      "text/plain": [
       "0.11033483405758082"
      ]
     },
     "execution_count": 41,
     "metadata": {},
     "output_type": "execute_result"
    }
   ],
   "source": [
    "beta = popt[1]\n",
    "beta"
   ]
  },
  {
   "cell_type": "code",
   "execution_count": 42,
   "metadata": {},
   "outputs": [
    {
     "data": {
      "text/plain": [
       "0.0029086674261868868"
      ]
     },
     "execution_count": 42,
     "metadata": {},
     "output_type": "execute_result"
    }
   ],
   "source": [
    "np.sqrt(pcov[1][1])"
   ]
  },
  {
   "cell_type": "code",
   "execution_count": 43,
   "metadata": {},
   "outputs": [
    {
     "data": {
      "text/plain": [
       "<matplotlib.legend.Legend at 0x12bdd2800>"
      ]
     },
     "execution_count": 43,
     "metadata": {},
     "output_type": "execute_result"
    },
    {
     "data": {
      "image/png": "[encoded data removed]",
      "text/plain": [
       "<Figure size 640x480 with 1 Axes>"
      ]
     },
     "metadata": {},
     "output_type": "display_data"
    }
   ],
   "source": [
    "plt.scatter(t, M[t.index])\n",
    "plt.plot(t, crit_decay(t, *popt), color = \"orange\", label = \"{}\".format(beta))\n",
    "plt.legend()"
   ]
  },
  {
   "cell_type": "markdown",
   "metadata": {},
   "source": [
    "### Magneetic Susceptibility"
   ]
  },
  {
   "cell_type": "code",
   "execution_count": 204,
   "metadata": {},
   "outputs": [],
   "source": [
    "t = get_reducedT(em, Tc = 2.24)\n",
    "tol = 0.1\n",
    "t= t [(np.abs(t) < tol)]\n",
    "t= t [(np.abs(t) > 0.005)]\n",
    "# t = t [(t > -tol)]\n",
    "# t= t [(t < -0.0001)]\n"
   ]
  },
  {
   "cell_type": "code",
   "execution_count": null,
   "metadata": {},
   "outputs": [],
   "source": []
  },
  {
   "cell_type": "code",
   "execution_count": 205,
   "metadata": {},
   "outputs": [],
   "source": [
    "def get_ms(data):\n",
    "\n",
    "    ms = data[\"M_std\"]**2\n",
    "    return ms"
   ]
  },
  {
   "cell_type": "code",
   "execution_count": 206,
   "metadata": {},
   "outputs": [],
   "source": [
    "def get_ms_avg(ems):\n",
    "    cvs = []\n",
    "    for em in ems:\n",
    "        cvs.append(get_ms(em))\n",
    "    \n",
    "    means = []\n",
    "    errs = []\n",
    "    for i in range(len(cvs[0])):\n",
    "        means.append(np.mean(np.matrix(cvs)[:,i]))\n",
    "        errs.append(np.std(np.matrix(cvs)[:,i]))\n",
    "    return pd.Series(means),pd.Series(errs)"
   ]
  },
  {
   "cell_type": "code",
   "execution_count": 207,
   "metadata": {},
   "outputs": [],
   "source": [
    "ms,err= get_ms_avg(ems)"
   ]
  },
  {
   "cell_type": "code",
   "execution_count": 208,
   "metadata": {},
   "outputs": [
    {
     "data": {
      "text/plain": [
       "0     0.000098\n",
       "1     0.000102\n",
       "2     0.000108\n",
       "3     0.000115\n",
       "4     0.000117\n",
       "        ...   \n",
       "95    0.004730\n",
       "96    0.004717\n",
       "97    0.004562\n",
       "98    0.004369\n",
       "99    0.004316\n",
       "Length: 100, dtype: float64"
      ]
     },
     "execution_count": 208,
     "metadata": {},
     "output_type": "execute_result"
    }
   ],
   "source": [
    "ms"
   ]
  },
  {
   "cell_type": "code",
   "execution_count": 227,
   "metadata": {},
   "outputs": [],
   "source": [
    "def get_gamma(t, gamma, A1, A2,C, tol = 0.005, tol2= 0.025):\n",
    "    \n",
    "    y = np.piecewise(t, [t < -tol, t > tol2,  (t > -tol)& (t < tol2)],\n",
    "                     [lambda t:A1*np.abs(t)**(-gamma) , lambda t:A2*np.abs(t)**(-gamma), C])\n",
    "    return y\n",
    "    \n"
   ]
  },
  {
   "cell_type": "code",
   "execution_count": 230,
   "metadata": {},
   "outputs": [
    {
     "data": {
      "image/png": "[encoded data removed]",
      "text/plain": [
       "<Figure size 1000x800 with 1 Axes>"
      ]
     },
     "metadata": {},
     "output_type": "display_data"
    }
   ],
   "source": [
    "fig = plt.figure(figsize= (10, 8))\n",
    "plt.errorbar(t, ms[t.index], yerr= err[t.index], fmt=\"o\",ecolor = \"lightskyblue\", color = \"orange\", label= \"Data\" )\n",
    "#plt.title(\"Heat Capacity Critical Exponent\")\n",
    "popt, pcov = curve_fit(get_gamma,   np.array(t), ms[t.index],p0=[7/4, 0.001, 0.03, 0.08])\n",
    "plt.plot(t, get_gamma(np.array(t),*popt ), color= \"olivedrab\", label = \"Fit\")\n",
    "plt.text(-0.07, 0.08, r' $\\chi^2=2.07$', fontsize=12)\n",
    "plt.text(-0.07, 0.06, r' $\\gamma={0:.2f} \\pm {1:.2f}$'.format(popt[0], np.sqrt(pcov[0][0])), fontsize=12)\n",
    "plt.legend()\n",
    "plt.xlabel(\"Reduced Temp ($T[J/k_b]$)\")\n",
    "plt.ylabel(\"$\\chi$ ($J$)\")\n",
    "plt.show()"
   ]
  },
  {
   "cell_type": "code",
   "execution_count": 229,
   "metadata": {},
   "outputs": [
    {
     "data": {
      "text/plain": [
       "2.0727412096270443"
      ]
     },
     "execution_count": 229,
     "metadata": {},
     "output_type": "execute_result"
    }
   ],
   "source": [
    "chi2 = 0\n",
    "for i in range(0,len(t)):\n",
    "    \n",
    "    chi2 += (list(get_gamma(np.array(t), *popt))[i] - list(ms)[i])**2/(np.sqrt(np.abs(list(t)[i])*np.sqrt(pcov[0][0]) * np.sqrt(pcov[1][1])))\n",
    "\n",
    "chi2/len(t)"
   ]
  },
  {
   "cell_type": "code",
   "execution_count": 52,
   "metadata": {},
   "outputs": [],
   "source": [
    "# min_err = 1000\n",
    "# min_tol = 0\n",
    "# for tol in np.linspace(0.001, 0.1, 100):\n",
    "#     t = get_reducedT(em)\n",
    "#     t = t [(t < tol)]\n",
    "#     t= t [(t > -tol)]\n",
    "#     popt, pcov = curve_fit(crit_decay, np.abs(t), ms[t.index], p0=(1.0, 1))\n",
    "#     error = (popt[1] - 7/4)/(7/4)\n",
    "#     if np.abs(error) < min_err:\n",
    "#         min_err = np.abs(error)\n",
    "#         min_tol = tol"
   ]
  },
  {
   "cell_type": "code",
   "execution_count": 176,
   "metadata": {},
   "outputs": [
    {
     "data": {
      "text/plain": [
       "array([1.68659996e+00, 8.26620456e-06, 8.41027063e-05, 5.30639596e-02])"
      ]
     },
     "execution_count": 176,
     "metadata": {},
     "output_type": "execute_result"
    }
   ],
   "source": [
    "popt"
   ]
  },
  {
   "cell_type": "code",
   "execution_count": 54,
   "metadata": {},
   "outputs": [
    {
     "data": {
      "text/plain": [
       "1.6420857499391384e-05"
      ]
     },
     "execution_count": 54,
     "metadata": {},
     "output_type": "execute_result"
    }
   ],
   "source": [
    "np.sqrt(pcov[1][1])"
   ]
  },
  {
   "cell_type": "code",
   "execution_count": 55,
   "metadata": {},
   "outputs": [],
   "source": [
    "gamma = popt[0]"
   ]
  },
  {
   "cell_type": "code",
   "execution_count": 177,
   "metadata": {},
   "outputs": [
    {
     "data": {
      "text/plain": [
       "1.75"
      ]
     },
     "execution_count": 177,
     "metadata": {},
     "output_type": "execute_result"
    }
   ],
   "source": [
    "7/4"
   ]
  },
  {
   "cell_type": "code",
   "execution_count": 57,
   "metadata": {},
   "outputs": [
    {
     "data": {
      "text/plain": [
       "1.4275691421532288"
      ]
     },
     "execution_count": 57,
     "metadata": {},
     "output_type": "execute_result"
    }
   ],
   "source": [
    "gamma"
   ]
  },
  {
   "cell_type": "code",
   "execution_count": 58,
   "metadata": {},
   "outputs": [
    {
     "data": {
      "text/plain": [
       "-0.18424620448386925"
      ]
     },
     "execution_count": 58,
     "metadata": {},
     "output_type": "execute_result"
    }
   ],
   "source": [
    "(gamma - 7/4)/(7/4)"
   ]
  },
  {
   "cell_type": "code",
   "execution_count": 59,
   "metadata": {},
   "outputs": [
    {
     "data": {
      "text/plain": [
       "<matplotlib.legend.Legend at 0x12beb0e80>"
      ]
     },
     "execution_count": 59,
     "metadata": {},
     "output_type": "execute_result"
    },
    {
     "data": {
      "image/png": "[encoded data removed]",
      "text/plain": [
       "<Figure size 640x480 with 1 Axes>"
      ]
     },
     "metadata": {},
     "output_type": "display_data"
    }
   ],
   "source": [
    "plt.scatter(t, ms[t.index])\n",
    "plt.plot(t, crit_decay(t, popt[0], 7/4), color = \"orange\", label = \"{}\".format(popt[1]))\n",
    "plt.legend()"
   ]
  },
  {
   "cell_type": "markdown",
   "metadata": {},
   "source": [
    "### v"
   ]
  },
  {
   "cell_type": "code",
   "execution_count": 60,
   "metadata": {},
   "outputs": [],
   "source": [
    "sc = pd.read_csv(\"500000_steps/2.00T2.50_SC_v0.csv\", index_col = \"Temp\", skiprows=3)\n",
    "sc = sc.iloc[:, :-1]"
   ]
  },
  {
   "cell_type": "code",
   "execution_count": 469,
   "metadata": {},
   "outputs": [],
   "source": [
    "scs = []\n",
    "for file in glob.glob(\"data/*_SC_*\"):\n",
    "    scs.append(pd.read_csv(file, index_col = \"Temp\",skiprows = 3).iloc[:, :-1])\n",
    "\n"
   ]
  },
  {
   "cell_type": "code",
   "execution_count": 296,
   "metadata": {},
   "outputs": [],
   "source": [
    "sc = pd.read_csv(\"good_data_v1/2.00T2.50_SC_v0.csv\", index_col = \"Temp\",skiprows=3)\n",
    "sc = sc.iloc[:, :-1]"
   ]
  },
  {
   "cell_type": "code",
   "execution_count": 297,
   "metadata": {},
   "outputs": [
    {
     "data": {
      "text/html": [
       "<div>\n",
       "<style scoped>\n",
       "    .dataframe tbody tr th:only-of-type {\n",
       "        vertical-align: middle;\n",
       "    }\n",
       "\n",
       "    .dataframe tbody tr th {\n",
       "        vertical-align: top;\n",
       "    }\n",
       "\n",
       "    .dataframe thead th {\n",
       "        text-align: right;\n",
       "    }\n",
       "</style>\n",
       "<table border=\"1\" class=\"dataframe\">\n",
       "  <thead>\n",
       "    <tr style=\"text-align: right;\">\n",
       "      <th></th>\n",
       "      <th>d=1</th>\n",
       "      <th>d=2</th>\n",
       "      <th>d=3</th>\n",
       "      <th>d=4</th>\n",
       "      <th>d=5</th>\n",
       "      <th>d=6</th>\n",
       "      <th>d=7</th>\n",
       "      <th>d=8</th>\n",
       "      <th>d=9</th>\n",
       "      <th>d=10</th>\n",
       "      <th>...</th>\n",
       "      <th>d=40</th>\n",
       "      <th>d=41</th>\n",
       "      <th>d=42</th>\n",
       "      <th>d=43</th>\n",
       "      <th>d=44</th>\n",
       "      <th>d=45</th>\n",
       "      <th>d=46</th>\n",
       "      <th>d=47</th>\n",
       "      <th>d=48</th>\n",
       "      <th>d=49</th>\n",
       "    </tr>\n",
       "    <tr>\n",
       "      <th>Temp</th>\n",
       "      <th></th>\n",
       "      <th></th>\n",
       "      <th></th>\n",
       "      <th></th>\n",
       "      <th></th>\n",
       "      <th></th>\n",
       "      <th></th>\n",
       "      <th></th>\n",
       "      <th></th>\n",
       "      <th></th>\n",
       "      <th></th>\n",
       "      <th></th>\n",
       "      <th></th>\n",
       "      <th></th>\n",
       "      <th></th>\n",
       "      <th></th>\n",
       "      <th></th>\n",
       "      <th></th>\n",
       "      <th></th>\n",
       "      <th></th>\n",
       "      <th></th>\n",
       "    </tr>\n",
       "  </thead>\n",
       "  <tbody>\n",
       "    <tr>\n",
       "      <th>2.000</th>\n",
       "      <td>0.000531</td>\n",
       "      <td>0.000197</td>\n",
       "      <td>0.000067</td>\n",
       "      <td>0.000012</td>\n",
       "      <td>-0.000020</td>\n",
       "      <td>-0.000040</td>\n",
       "      <td>-0.000050</td>\n",
       "      <td>-0.000061</td>\n",
       "      <td>-4.957767e-05</td>\n",
       "      <td>-0.000040</td>\n",
       "      <td>...</td>\n",
       "      <td>-0.000038</td>\n",
       "      <td>-0.000041</td>\n",
       "      <td>-0.000064</td>\n",
       "      <td>-0.000040</td>\n",
       "      <td>-0.000038</td>\n",
       "      <td>-0.000045</td>\n",
       "      <td>-0.000063</td>\n",
       "      <td>-0.000047</td>\n",
       "      <td>-0.000046</td>\n",
       "      <td>-0.000019</td>\n",
       "    </tr>\n",
       "    <tr>\n",
       "      <th>2.005</th>\n",
       "      <td>0.000658</td>\n",
       "      <td>0.000247</td>\n",
       "      <td>0.000067</td>\n",
       "      <td>0.000027</td>\n",
       "      <td>-0.000008</td>\n",
       "      <td>-0.000009</td>\n",
       "      <td>-0.000061</td>\n",
       "      <td>-0.000078</td>\n",
       "      <td>-5.939929e-05</td>\n",
       "      <td>-0.000029</td>\n",
       "      <td>...</td>\n",
       "      <td>-0.000076</td>\n",
       "      <td>-0.000069</td>\n",
       "      <td>-0.000051</td>\n",
       "      <td>-0.000030</td>\n",
       "      <td>-0.000033</td>\n",
       "      <td>-0.000057</td>\n",
       "      <td>-0.000045</td>\n",
       "      <td>-0.000035</td>\n",
       "      <td>-0.000021</td>\n",
       "      <td>-0.000060</td>\n",
       "    </tr>\n",
       "    <tr>\n",
       "      <th>2.010</th>\n",
       "      <td>0.000407</td>\n",
       "      <td>0.000136</td>\n",
       "      <td>0.000017</td>\n",
       "      <td>-0.000008</td>\n",
       "      <td>-0.000030</td>\n",
       "      <td>-0.000036</td>\n",
       "      <td>-0.000030</td>\n",
       "      <td>-0.000034</td>\n",
       "      <td>-2.799125e-05</td>\n",
       "      <td>-0.000021</td>\n",
       "      <td>...</td>\n",
       "      <td>-0.000010</td>\n",
       "      <td>-0.000028</td>\n",
       "      <td>-0.000024</td>\n",
       "      <td>-0.000033</td>\n",
       "      <td>-0.000046</td>\n",
       "      <td>-0.000058</td>\n",
       "      <td>-0.000055</td>\n",
       "      <td>-0.000034</td>\n",
       "      <td>-0.000058</td>\n",
       "      <td>-0.000029</td>\n",
       "    </tr>\n",
       "    <tr>\n",
       "      <th>2.015</th>\n",
       "      <td>0.000628</td>\n",
       "      <td>0.000188</td>\n",
       "      <td>0.000062</td>\n",
       "      <td>0.000004</td>\n",
       "      <td>-0.000005</td>\n",
       "      <td>-0.000016</td>\n",
       "      <td>-0.000025</td>\n",
       "      <td>-0.000045</td>\n",
       "      <td>-3.663798e-05</td>\n",
       "      <td>-0.000031</td>\n",
       "      <td>...</td>\n",
       "      <td>-0.000018</td>\n",
       "      <td>-0.000028</td>\n",
       "      <td>-0.000052</td>\n",
       "      <td>-0.000055</td>\n",
       "      <td>-0.000050</td>\n",
       "      <td>-0.000060</td>\n",
       "      <td>-0.000068</td>\n",
       "      <td>-0.000046</td>\n",
       "      <td>-0.000026</td>\n",
       "      <td>-0.000069</td>\n",
       "    </tr>\n",
       "    <tr>\n",
       "      <th>2.020</th>\n",
       "      <td>0.000393</td>\n",
       "      <td>0.000128</td>\n",
       "      <td>0.000022</td>\n",
       "      <td>0.000004</td>\n",
       "      <td>-0.000013</td>\n",
       "      <td>-0.000012</td>\n",
       "      <td>-0.000002</td>\n",
       "      <td>-0.000029</td>\n",
       "      <td>-4.055627e-07</td>\n",
       "      <td>-0.000033</td>\n",
       "      <td>...</td>\n",
       "      <td>-0.000047</td>\n",
       "      <td>-0.000034</td>\n",
       "      <td>-0.000031</td>\n",
       "      <td>-0.000039</td>\n",
       "      <td>-0.000035</td>\n",
       "      <td>-0.000040</td>\n",
       "      <td>-0.000047</td>\n",
       "      <td>-0.000061</td>\n",
       "      <td>-0.000066</td>\n",
       "      <td>-0.000048</td>\n",
       "    </tr>\n",
       "    <tr>\n",
       "      <th>...</th>\n",
       "      <td>...</td>\n",
       "      <td>...</td>\n",
       "      <td>...</td>\n",
       "      <td>...</td>\n",
       "      <td>...</td>\n",
       "      <td>...</td>\n",
       "      <td>...</td>\n",
       "      <td>...</td>\n",
       "      <td>...</td>\n",
       "      <td>...</td>\n",
       "      <td>...</td>\n",
       "      <td>...</td>\n",
       "      <td>...</td>\n",
       "      <td>...</td>\n",
       "      <td>...</td>\n",
       "      <td>...</td>\n",
       "      <td>...</td>\n",
       "      <td>...</td>\n",
       "      <td>...</td>\n",
       "      <td>...</td>\n",
       "      <td>...</td>\n",
       "    </tr>\n",
       "    <tr>\n",
       "      <th>2.475</th>\n",
       "      <td>0.004631</td>\n",
       "      <td>0.002791</td>\n",
       "      <td>0.001905</td>\n",
       "      <td>0.001264</td>\n",
       "      <td>0.000845</td>\n",
       "      <td>0.000464</td>\n",
       "      <td>0.000246</td>\n",
       "      <td>0.000082</td>\n",
       "      <td>-7.831749e-05</td>\n",
       "      <td>-0.000243</td>\n",
       "      <td>...</td>\n",
       "      <td>-0.000423</td>\n",
       "      <td>-0.000347</td>\n",
       "      <td>-0.000183</td>\n",
       "      <td>-0.000155</td>\n",
       "      <td>-0.000219</td>\n",
       "      <td>-0.000275</td>\n",
       "      <td>-0.000282</td>\n",
       "      <td>-0.000234</td>\n",
       "      <td>-0.000163</td>\n",
       "      <td>-0.000227</td>\n",
       "    </tr>\n",
       "    <tr>\n",
       "      <th>2.480</th>\n",
       "      <td>0.004767</td>\n",
       "      <td>0.002893</td>\n",
       "      <td>0.001795</td>\n",
       "      <td>0.001023</td>\n",
       "      <td>0.000540</td>\n",
       "      <td>0.000229</td>\n",
       "      <td>0.000013</td>\n",
       "      <td>-0.000198</td>\n",
       "      <td>-2.675421e-04</td>\n",
       "      <td>-0.000336</td>\n",
       "      <td>...</td>\n",
       "      <td>-0.000389</td>\n",
       "      <td>-0.000399</td>\n",
       "      <td>-0.000400</td>\n",
       "      <td>-0.000315</td>\n",
       "      <td>-0.000358</td>\n",
       "      <td>-0.000352</td>\n",
       "      <td>-0.000332</td>\n",
       "      <td>-0.000274</td>\n",
       "      <td>-0.000381</td>\n",
       "      <td>-0.000423</td>\n",
       "    </tr>\n",
       "    <tr>\n",
       "      <th>2.485</th>\n",
       "      <td>0.004739</td>\n",
       "      <td>0.002840</td>\n",
       "      <td>0.001985</td>\n",
       "      <td>0.001343</td>\n",
       "      <td>0.000822</td>\n",
       "      <td>0.000479</td>\n",
       "      <td>0.000261</td>\n",
       "      <td>0.000079</td>\n",
       "      <td>-6.466698e-05</td>\n",
       "      <td>-0.000132</td>\n",
       "      <td>...</td>\n",
       "      <td>-0.000637</td>\n",
       "      <td>-0.000522</td>\n",
       "      <td>-0.000437</td>\n",
       "      <td>-0.000408</td>\n",
       "      <td>-0.000366</td>\n",
       "      <td>-0.000328</td>\n",
       "      <td>-0.000359</td>\n",
       "      <td>-0.000287</td>\n",
       "      <td>-0.000230</td>\n",
       "      <td>-0.000145</td>\n",
       "    </tr>\n",
       "    <tr>\n",
       "      <th>2.490</th>\n",
       "      <td>0.004913</td>\n",
       "      <td>0.003033</td>\n",
       "      <td>0.002018</td>\n",
       "      <td>0.001307</td>\n",
       "      <td>0.000883</td>\n",
       "      <td>0.000625</td>\n",
       "      <td>0.000330</td>\n",
       "      <td>0.000122</td>\n",
       "      <td>-8.953953e-05</td>\n",
       "      <td>-0.000178</td>\n",
       "      <td>...</td>\n",
       "      <td>-0.000554</td>\n",
       "      <td>-0.000610</td>\n",
       "      <td>-0.000549</td>\n",
       "      <td>-0.000461</td>\n",
       "      <td>-0.000462</td>\n",
       "      <td>-0.000574</td>\n",
       "      <td>-0.000691</td>\n",
       "      <td>-0.000783</td>\n",
       "      <td>-0.000931</td>\n",
       "      <td>-0.000955</td>\n",
       "    </tr>\n",
       "    <tr>\n",
       "      <th>2.495</th>\n",
       "      <td>0.004764</td>\n",
       "      <td>0.002875</td>\n",
       "      <td>0.001928</td>\n",
       "      <td>0.001250</td>\n",
       "      <td>0.000899</td>\n",
       "      <td>0.000594</td>\n",
       "      <td>0.000314</td>\n",
       "      <td>0.000169</td>\n",
       "      <td>1.505088e-05</td>\n",
       "      <td>-0.000062</td>\n",
       "      <td>...</td>\n",
       "      <td>-0.000409</td>\n",
       "      <td>-0.000305</td>\n",
       "      <td>-0.000216</td>\n",
       "      <td>-0.000282</td>\n",
       "      <td>-0.000494</td>\n",
       "      <td>-0.000546</td>\n",
       "      <td>-0.000614</td>\n",
       "      <td>-0.000647</td>\n",
       "      <td>-0.000623</td>\n",
       "      <td>-0.000720</td>\n",
       "    </tr>\n",
       "  </tbody>\n",
       "</table>\n",
       "<p>100 rows × 49 columns</p>\n",
       "</div>"
      ],
      "text/plain": [
       "            d=1       d=2       d=3       d=4       d=5       d=6       d=7  \\\n",
       "Temp                                                                          \n",
       "2.000  0.000531  0.000197  0.000067  0.000012 -0.000020 -0.000040 -0.000050   \n",
       "2.005  0.000658  0.000247  0.000067  0.000027 -0.000008 -0.000009 -0.000061   \n",
       "2.010  0.000407  0.000136  0.000017 -0.000008 -0.000030 -0.000036 -0.000030   \n",
       "2.015  0.000628  0.000188  0.000062  0.000004 -0.000005 -0.000016 -0.000025   \n",
       "2.020  0.000393  0.000128  0.000022  0.000004 -0.000013 -0.000012 -0.000002   \n",
       "...         ...       ...       ...       ...       ...       ...       ...   \n",
       "2.475  0.004631  0.002791  0.001905  0.001264  0.000845  0.000464  0.000246   \n",
       "2.480  0.004767  0.002893  0.001795  0.001023  0.000540  0.000229  0.000013   \n",
       "2.485  0.004739  0.002840  0.001985  0.001343  0.000822  0.000479  0.000261   \n",
       "2.490  0.004913  0.003033  0.002018  0.001307  0.000883  0.000625  0.000330   \n",
       "2.495  0.004764  0.002875  0.001928  0.001250  0.000899  0.000594  0.000314   \n",
       "\n",
       "            d=8           d=9      d=10  ...      d=40      d=41      d=42  \\\n",
       "Temp                                     ...                                 \n",
       "2.000 -0.000061 -4.957767e-05 -0.000040  ... -0.000038 -0.000041 -0.000064   \n",
       "2.005 -0.000078 -5.939929e-05 -0.000029  ... -0.000076 -0.000069 -0.000051   \n",
       "2.010 -0.000034 -2.799125e-05 -0.000021  ... -0.000010 -0.000028 -0.000024   \n",
       "2.015 -0.000045 -3.663798e-05 -0.000031  ... -0.000018 -0.000028 -0.000052   \n",
       "2.020 -0.000029 -4.055627e-07 -0.000033  ... -0.000047 -0.000034 -0.000031   \n",
       "...         ...           ...       ...  ...       ...       ...       ...   \n",
       "2.475  0.000082 -7.831749e-05 -0.000243  ... -0.000423 -0.000347 -0.000183   \n",
       "2.480 -0.000198 -2.675421e-04 -0.000336  ... -0.000389 -0.000399 -0.000400   \n",
       "2.485  0.000079 -6.466698e-05 -0.000132  ... -0.000637 -0.000522 -0.000437   \n",
       "2.490  0.000122 -8.953953e-05 -0.000178  ... -0.000554 -0.000610 -0.000549   \n",
       "2.495  0.000169  1.505088e-05 -0.000062  ... -0.000409 -0.000305 -0.000216   \n",
       "\n",
       "           d=43      d=44      d=45      d=46      d=47      d=48      d=49  \n",
       "Temp                                                                         \n",
       "2.000 -0.000040 -0.000038 -0.000045 -0.000063 -0.000047 -0.000046 -0.000019  \n",
       "2.005 -0.000030 -0.000033 -0.000057 -0.000045 -0.000035 -0.000021 -0.000060  \n",
       "2.010 -0.000033 -0.000046 -0.000058 -0.000055 -0.000034 -0.000058 -0.000029  \n",
       "2.015 -0.000055 -0.000050 -0.000060 -0.000068 -0.000046 -0.000026 -0.000069  \n",
       "2.020 -0.000039 -0.000035 -0.000040 -0.000047 -0.000061 -0.000066 -0.000048  \n",
       "...         ...       ...       ...       ...       ...       ...       ...  \n",
       "2.475 -0.000155 -0.000219 -0.000275 -0.000282 -0.000234 -0.000163 -0.000227  \n",
       "2.480 -0.000315 -0.000358 -0.000352 -0.000332 -0.000274 -0.000381 -0.000423  \n",
       "2.485 -0.000408 -0.000366 -0.000328 -0.000359 -0.000287 -0.000230 -0.000145  \n",
       "2.490 -0.000461 -0.000462 -0.000574 -0.000691 -0.000783 -0.000931 -0.000955  \n",
       "2.495 -0.000282 -0.000494 -0.000546 -0.000614 -0.000647 -0.000623 -0.000720  \n",
       "\n",
       "[100 rows x 49 columns]"
      ]
     },
     "execution_count": 297,
     "metadata": {},
     "output_type": "execute_result"
    }
   ],
   "source": [
    "scs[0]"
   ]
  },
  {
   "cell_type": "code",
   "execution_count": 298,
   "metadata": {},
   "outputs": [
    {
     "data": {
      "text/html": [
       "<div>\n",
       "<style scoped>\n",
       "    .dataframe tbody tr th:only-of-type {\n",
       "        vertical-align: middle;\n",
       "    }\n",
       "\n",
       "    .dataframe tbody tr th {\n",
       "        vertical-align: top;\n",
       "    }\n",
       "\n",
       "    .dataframe thead th {\n",
       "        text-align: right;\n",
       "    }\n",
       "</style>\n",
       "<table border=\"1\" class=\"dataframe\">\n",
       "  <thead>\n",
       "    <tr style=\"text-align: right;\">\n",
       "      <th></th>\n",
       "      <th>d=1</th>\n",
       "      <th>d=2</th>\n",
       "      <th>d=3</th>\n",
       "      <th>d=4</th>\n",
       "      <th>d=5</th>\n",
       "      <th>d=6</th>\n",
       "      <th>d=7</th>\n",
       "      <th>d=8</th>\n",
       "      <th>d=9</th>\n",
       "      <th>d=10</th>\n",
       "      <th>...</th>\n",
       "      <th>d=40</th>\n",
       "      <th>d=41</th>\n",
       "      <th>d=42</th>\n",
       "      <th>d=43</th>\n",
       "      <th>d=44</th>\n",
       "      <th>d=45</th>\n",
       "      <th>d=46</th>\n",
       "      <th>d=47</th>\n",
       "      <th>d=48</th>\n",
       "      <th>d=49</th>\n",
       "    </tr>\n",
       "    <tr>\n",
       "      <th>Temp</th>\n",
       "      <th></th>\n",
       "      <th></th>\n",
       "      <th></th>\n",
       "      <th></th>\n",
       "      <th></th>\n",
       "      <th></th>\n",
       "      <th></th>\n",
       "      <th></th>\n",
       "      <th></th>\n",
       "      <th></th>\n",
       "      <th></th>\n",
       "      <th></th>\n",
       "      <th></th>\n",
       "      <th></th>\n",
       "      <th></th>\n",
       "      <th></th>\n",
       "      <th></th>\n",
       "      <th></th>\n",
       "      <th></th>\n",
       "      <th></th>\n",
       "      <th></th>\n",
       "    </tr>\n",
       "  </thead>\n",
       "  <tbody>\n",
       "    <tr>\n",
       "      <th>2.000</th>\n",
       "      <td>0.000621</td>\n",
       "      <td>0.000156</td>\n",
       "      <td>0.000021</td>\n",
       "      <td>-0.000034</td>\n",
       "      <td>-0.000047</td>\n",
       "      <td>-0.000042</td>\n",
       "      <td>-0.000037</td>\n",
       "      <td>-0.000044</td>\n",
       "      <td>-0.000029</td>\n",
       "      <td>-0.000050</td>\n",
       "      <td>...</td>\n",
       "      <td>-0.000029</td>\n",
       "      <td>-0.000052</td>\n",
       "      <td>-0.000032</td>\n",
       "      <td>-0.000046</td>\n",
       "      <td>-0.000047</td>\n",
       "      <td>-0.000045</td>\n",
       "      <td>-0.000045</td>\n",
       "      <td>-0.000027</td>\n",
       "      <td>-0.000002</td>\n",
       "      <td>-0.000016</td>\n",
       "    </tr>\n",
       "    <tr>\n",
       "      <th>2.005</th>\n",
       "      <td>0.000392</td>\n",
       "      <td>0.000075</td>\n",
       "      <td>-0.000012</td>\n",
       "      <td>-0.000030</td>\n",
       "      <td>-0.000016</td>\n",
       "      <td>-0.000040</td>\n",
       "      <td>-0.000021</td>\n",
       "      <td>-0.000032</td>\n",
       "      <td>-0.000038</td>\n",
       "      <td>-0.000022</td>\n",
       "      <td>...</td>\n",
       "      <td>-0.000042</td>\n",
       "      <td>-0.000040</td>\n",
       "      <td>-0.000026</td>\n",
       "      <td>-0.000030</td>\n",
       "      <td>-0.000032</td>\n",
       "      <td>-0.000028</td>\n",
       "      <td>-0.000027</td>\n",
       "      <td>-0.000020</td>\n",
       "      <td>-0.000021</td>\n",
       "      <td>-0.000028</td>\n",
       "    </tr>\n",
       "    <tr>\n",
       "      <th>2.010</th>\n",
       "      <td>0.000463</td>\n",
       "      <td>0.000141</td>\n",
       "      <td>0.000032</td>\n",
       "      <td>-0.000017</td>\n",
       "      <td>-0.000034</td>\n",
       "      <td>-0.000061</td>\n",
       "      <td>-0.000044</td>\n",
       "      <td>-0.000060</td>\n",
       "      <td>-0.000047</td>\n",
       "      <td>-0.000061</td>\n",
       "      <td>...</td>\n",
       "      <td>-0.000056</td>\n",
       "      <td>-0.000044</td>\n",
       "      <td>-0.000021</td>\n",
       "      <td>-0.000013</td>\n",
       "      <td>-0.000034</td>\n",
       "      <td>-0.000038</td>\n",
       "      <td>-0.000036</td>\n",
       "      <td>-0.000021</td>\n",
       "      <td>-0.000056</td>\n",
       "      <td>-0.000056</td>\n",
       "    </tr>\n",
       "    <tr>\n",
       "      <th>2.015</th>\n",
       "      <td>0.000484</td>\n",
       "      <td>0.000164</td>\n",
       "      <td>0.000047</td>\n",
       "      <td>-0.000011</td>\n",
       "      <td>-0.000034</td>\n",
       "      <td>-0.000039</td>\n",
       "      <td>-0.000035</td>\n",
       "      <td>-0.000032</td>\n",
       "      <td>-0.000024</td>\n",
       "      <td>-0.000046</td>\n",
       "      <td>...</td>\n",
       "      <td>0.000006</td>\n",
       "      <td>-0.000033</td>\n",
       "      <td>-0.000034</td>\n",
       "      <td>-0.000054</td>\n",
       "      <td>-0.000055</td>\n",
       "      <td>-0.000043</td>\n",
       "      <td>-0.000039</td>\n",
       "      <td>-0.000053</td>\n",
       "      <td>-0.000043</td>\n",
       "      <td>-0.000030</td>\n",
       "    </tr>\n",
       "    <tr>\n",
       "      <th>2.020</th>\n",
       "      <td>0.000505</td>\n",
       "      <td>0.000151</td>\n",
       "      <td>0.000048</td>\n",
       "      <td>0.000001</td>\n",
       "      <td>-0.000033</td>\n",
       "      <td>-0.000052</td>\n",
       "      <td>-0.000039</td>\n",
       "      <td>-0.000015</td>\n",
       "      <td>-0.000031</td>\n",
       "      <td>-0.000006</td>\n",
       "      <td>...</td>\n",
       "      <td>-0.000028</td>\n",
       "      <td>-0.000055</td>\n",
       "      <td>-0.000065</td>\n",
       "      <td>-0.000054</td>\n",
       "      <td>-0.000019</td>\n",
       "      <td>-0.000028</td>\n",
       "      <td>-0.000026</td>\n",
       "      <td>-0.000026</td>\n",
       "      <td>-0.000028</td>\n",
       "      <td>-0.000048</td>\n",
       "    </tr>\n",
       "    <tr>\n",
       "      <th>...</th>\n",
       "      <td>...</td>\n",
       "      <td>...</td>\n",
       "      <td>...</td>\n",
       "      <td>...</td>\n",
       "      <td>...</td>\n",
       "      <td>...</td>\n",
       "      <td>...</td>\n",
       "      <td>...</td>\n",
       "      <td>...</td>\n",
       "      <td>...</td>\n",
       "      <td>...</td>\n",
       "      <td>...</td>\n",
       "      <td>...</td>\n",
       "      <td>...</td>\n",
       "      <td>...</td>\n",
       "      <td>...</td>\n",
       "      <td>...</td>\n",
       "      <td>...</td>\n",
       "      <td>...</td>\n",
       "      <td>...</td>\n",
       "      <td>...</td>\n",
       "    </tr>\n",
       "    <tr>\n",
       "      <th>2.475</th>\n",
       "      <td>0.004733</td>\n",
       "      <td>0.002969</td>\n",
       "      <td>0.002022</td>\n",
       "      <td>0.001333</td>\n",
       "      <td>0.000937</td>\n",
       "      <td>0.000660</td>\n",
       "      <td>0.000439</td>\n",
       "      <td>0.000233</td>\n",
       "      <td>0.000016</td>\n",
       "      <td>-0.000127</td>\n",
       "      <td>...</td>\n",
       "      <td>-0.000741</td>\n",
       "      <td>-0.000724</td>\n",
       "      <td>-0.000719</td>\n",
       "      <td>-0.000751</td>\n",
       "      <td>-0.000749</td>\n",
       "      <td>-0.000752</td>\n",
       "      <td>-0.000671</td>\n",
       "      <td>-0.000622</td>\n",
       "      <td>-0.000627</td>\n",
       "      <td>-0.000525</td>\n",
       "    </tr>\n",
       "    <tr>\n",
       "      <th>2.480</th>\n",
       "      <td>0.004737</td>\n",
       "      <td>0.002836</td>\n",
       "      <td>0.001917</td>\n",
       "      <td>0.001249</td>\n",
       "      <td>0.000743</td>\n",
       "      <td>0.000511</td>\n",
       "      <td>0.000456</td>\n",
       "      <td>0.000265</td>\n",
       "      <td>0.000142</td>\n",
       "      <td>-0.000055</td>\n",
       "      <td>...</td>\n",
       "      <td>-0.000599</td>\n",
       "      <td>-0.000483</td>\n",
       "      <td>-0.000485</td>\n",
       "      <td>-0.000543</td>\n",
       "      <td>-0.000495</td>\n",
       "      <td>-0.000413</td>\n",
       "      <td>-0.000467</td>\n",
       "      <td>-0.000459</td>\n",
       "      <td>-0.000480</td>\n",
       "      <td>-0.000525</td>\n",
       "    </tr>\n",
       "    <tr>\n",
       "      <th>2.485</th>\n",
       "      <td>0.004592</td>\n",
       "      <td>0.002634</td>\n",
       "      <td>0.001629</td>\n",
       "      <td>0.000931</td>\n",
       "      <td>0.000464</td>\n",
       "      <td>0.000200</td>\n",
       "      <td>0.000045</td>\n",
       "      <td>-0.000023</td>\n",
       "      <td>-0.000093</td>\n",
       "      <td>-0.000172</td>\n",
       "      <td>...</td>\n",
       "      <td>-0.000495</td>\n",
       "      <td>-0.000435</td>\n",
       "      <td>-0.000330</td>\n",
       "      <td>-0.000283</td>\n",
       "      <td>-0.000297</td>\n",
       "      <td>-0.000252</td>\n",
       "      <td>-0.000168</td>\n",
       "      <td>-0.000120</td>\n",
       "      <td>-0.000033</td>\n",
       "      <td>-0.000071</td>\n",
       "    </tr>\n",
       "    <tr>\n",
       "      <th>2.490</th>\n",
       "      <td>0.004525</td>\n",
       "      <td>0.002637</td>\n",
       "      <td>0.001762</td>\n",
       "      <td>0.001182</td>\n",
       "      <td>0.000771</td>\n",
       "      <td>0.000517</td>\n",
       "      <td>0.000303</td>\n",
       "      <td>0.000155</td>\n",
       "      <td>0.000104</td>\n",
       "      <td>-0.000028</td>\n",
       "      <td>...</td>\n",
       "      <td>-0.000361</td>\n",
       "      <td>-0.000452</td>\n",
       "      <td>-0.000432</td>\n",
       "      <td>-0.000489</td>\n",
       "      <td>-0.000510</td>\n",
       "      <td>-0.000565</td>\n",
       "      <td>-0.000552</td>\n",
       "      <td>-0.000553</td>\n",
       "      <td>-0.000531</td>\n",
       "      <td>-0.000526</td>\n",
       "    </tr>\n",
       "    <tr>\n",
       "      <th>2.495</th>\n",
       "      <td>0.004684</td>\n",
       "      <td>0.002825</td>\n",
       "      <td>0.001755</td>\n",
       "      <td>0.001162</td>\n",
       "      <td>0.000798</td>\n",
       "      <td>0.000501</td>\n",
       "      <td>0.000249</td>\n",
       "      <td>0.000161</td>\n",
       "      <td>0.000070</td>\n",
       "      <td>-0.000029</td>\n",
       "      <td>...</td>\n",
       "      <td>-0.000471</td>\n",
       "      <td>-0.000492</td>\n",
       "      <td>-0.000558</td>\n",
       "      <td>-0.000546</td>\n",
       "      <td>-0.000501</td>\n",
       "      <td>-0.000618</td>\n",
       "      <td>-0.000659</td>\n",
       "      <td>-0.000577</td>\n",
       "      <td>-0.000576</td>\n",
       "      <td>-0.000511</td>\n",
       "    </tr>\n",
       "  </tbody>\n",
       "</table>\n",
       "<p>100 rows × 49 columns</p>\n",
       "</div>"
      ],
      "text/plain": [
       "            d=1       d=2       d=3       d=4       d=5       d=6       d=7  \\\n",
       "Temp                                                                          \n",
       "2.000  0.000621  0.000156  0.000021 -0.000034 -0.000047 -0.000042 -0.000037   \n",
       "2.005  0.000392  0.000075 -0.000012 -0.000030 -0.000016 -0.000040 -0.000021   \n",
       "2.010  0.000463  0.000141  0.000032 -0.000017 -0.000034 -0.000061 -0.000044   \n",
       "2.015  0.000484  0.000164  0.000047 -0.000011 -0.000034 -0.000039 -0.000035   \n",
       "2.020  0.000505  0.000151  0.000048  0.000001 -0.000033 -0.000052 -0.000039   \n",
       "...         ...       ...       ...       ...       ...       ...       ...   \n",
       "2.475  0.004733  0.002969  0.002022  0.001333  0.000937  0.000660  0.000439   \n",
       "2.480  0.004737  0.002836  0.001917  0.001249  0.000743  0.000511  0.000456   \n",
       "2.485  0.004592  0.002634  0.001629  0.000931  0.000464  0.000200  0.000045   \n",
       "2.490  0.004525  0.002637  0.001762  0.001182  0.000771  0.000517  0.000303   \n",
       "2.495  0.004684  0.002825  0.001755  0.001162  0.000798  0.000501  0.000249   \n",
       "\n",
       "            d=8       d=9      d=10  ...      d=40      d=41      d=42  \\\n",
       "Temp                                 ...                                 \n",
       "2.000 -0.000044 -0.000029 -0.000050  ... -0.000029 -0.000052 -0.000032   \n",
       "2.005 -0.000032 -0.000038 -0.000022  ... -0.000042 -0.000040 -0.000026   \n",
       "2.010 -0.000060 -0.000047 -0.000061  ... -0.000056 -0.000044 -0.000021   \n",
       "2.015 -0.000032 -0.000024 -0.000046  ...  0.000006 -0.000033 -0.000034   \n",
       "2.020 -0.000015 -0.000031 -0.000006  ... -0.000028 -0.000055 -0.000065   \n",
       "...         ...       ...       ...  ...       ...       ...       ...   \n",
       "2.475  0.000233  0.000016 -0.000127  ... -0.000741 -0.000724 -0.000719   \n",
       "2.480  0.000265  0.000142 -0.000055  ... -0.000599 -0.000483 -0.000485   \n",
       "2.485 -0.000023 -0.000093 -0.000172  ... -0.000495 -0.000435 -0.000330   \n",
       "2.490  0.000155  0.000104 -0.000028  ... -0.000361 -0.000452 -0.000432   \n",
       "2.495  0.000161  0.000070 -0.000029  ... -0.000471 -0.000492 -0.000558   \n",
       "\n",
       "           d=43      d=44      d=45      d=46      d=47      d=48      d=49  \n",
       "Temp                                                                         \n",
       "2.000 -0.000046 -0.000047 -0.000045 -0.000045 -0.000027 -0.000002 -0.000016  \n",
       "2.005 -0.000030 -0.000032 -0.000028 -0.000027 -0.000020 -0.000021 -0.000028  \n",
       "2.010 -0.000013 -0.000034 -0.000038 -0.000036 -0.000021 -0.000056 -0.000056  \n",
       "2.015 -0.000054 -0.000055 -0.000043 -0.000039 -0.000053 -0.000043 -0.000030  \n",
       "2.020 -0.000054 -0.000019 -0.000028 -0.000026 -0.000026 -0.000028 -0.000048  \n",
       "...         ...       ...       ...       ...       ...       ...       ...  \n",
       "2.475 -0.000751 -0.000749 -0.000752 -0.000671 -0.000622 -0.000627 -0.000525  \n",
       "2.480 -0.000543 -0.000495 -0.000413 -0.000467 -0.000459 -0.000480 -0.000525  \n",
       "2.485 -0.000283 -0.000297 -0.000252 -0.000168 -0.000120 -0.000033 -0.000071  \n",
       "2.490 -0.000489 -0.000510 -0.000565 -0.000552 -0.000553 -0.000531 -0.000526  \n",
       "2.495 -0.000546 -0.000501 -0.000618 -0.000659 -0.000577 -0.000576 -0.000511  \n",
       "\n",
       "[100 rows x 49 columns]"
      ]
     },
     "execution_count": 298,
     "metadata": {},
     "output_type": "execute_result"
    }
   ],
   "source": [
    "sc"
   ]
  },
  {
   "cell_type": "code",
   "execution_count": 496,
   "metadata": {},
   "outputs": [],
   "source": [
    "max_ind = np.where(sc.iloc[-1] <0 )[0].min()"
   ]
  },
  {
   "cell_type": "code",
   "execution_count": 498,
   "metadata": {},
   "outputs": [
    {
     "data": {
      "text/plain": [
       "[1, 2, 3, 4, 5, 6, 7, 8, 9]"
      ]
     },
     "execution_count": 498,
     "metadata": {},
     "output_type": "execute_result"
    }
   ],
   "source": [
    "[i+1 for i in range(max_ind)]"
   ]
  },
  {
   "cell_type": "code",
   "execution_count": 502,
   "metadata": {},
   "outputs": [
    {
     "data": {
      "text/plain": [
       "d=1    0.004684\n",
       "d=2    0.002825\n",
       "d=3    0.001755\n",
       "d=4    0.001162\n",
       "d=5    0.000798\n",
       "d=6    0.000501\n",
       "d=7    0.000249\n",
       "d=8    0.000161\n",
       "d=9    0.000070\n",
       "Name: 2.494999999999989, dtype: float64"
      ]
     },
     "execution_count": 502,
     "metadata": {},
     "output_type": "execute_result"
    }
   ],
   "source": [
    "sc.iloc[-1][:max_ind]"
   ]
  },
  {
   "cell_type": "code",
   "execution_count": 532,
   "metadata": {},
   "outputs": [],
   "source": [
    "def decay(x,k,A):\n",
    "    return A*np.exp(-x/k)"
   ]
  },
  {
   "cell_type": "code",
   "execution_count": 524,
   "metadata": {},
   "outputs": [
    {
     "data": {
      "text/plain": [
       "array([1, 2, 3, 4, 5, 6, 7, 8, 9])"
      ]
     },
     "execution_count": 524,
     "metadata": {},
     "output_type": "execute_result"
    }
   ],
   "source": [
    "np.array([i+1 for i in range(max_ind)])"
   ]
  },
  {
   "cell_type": "code",
   "execution_count": 517,
   "metadata": {},
   "outputs": [
    {
     "data": {
      "text/plain": [
       "array([0.71653131, 0.51341712, 0.36787944, 0.26359714, 0.1888756 ,\n",
       "       0.13533528, 0.09697197, 0.06948345, 0.04978707])"
      ]
     },
     "execution_count": 517,
     "metadata": {},
     "output_type": "execute_result"
    }
   ],
   "source": [
    "decay(np.array([i+1 for i in range(max_ind)]), 3)"
   ]
  },
  {
   "cell_type": "code",
   "execution_count": 518,
   "metadata": {},
   "outputs": [
    {
     "data": {
      "text/plain": [
       "(array([0.18663725]), array([[9.06581323e-05]]))"
      ]
     },
     "execution_count": 518,
     "metadata": {},
     "output_type": "execute_result"
    }
   ],
   "source": [
    "curve_fit(decay, np.array([i+1 for i in range(max_ind)]), sc.iloc[-1][:max_ind], p0=(2), maxfev=2000000 )"
   ]
  },
  {
   "cell_type": "code",
   "execution_count": 535,
   "metadata": {},
   "outputs": [
    {
     "data": {
      "text/plain": [
       "[<matplotlib.lines.Line2D at 0x12ec5f2b0>]"
      ]
     },
     "execution_count": 535,
     "metadata": {},
     "output_type": "execute_result"
    },
    {
     "data": {
      "image/png": "[encoded data removed]",
      "text/plain": [
       "<Figure size 640x480 with 1 Axes>"
      ]
     },
     "metadata": {},
     "output_type": "display_data"
    }
   ],
   "source": [
    "plt.scatter([i+1 for i in range(max_ind)], sc.iloc[-1][:max_ind])\n",
    "popt, pcov = curve_fit(decay, np.array([i+1 for i in range(max_ind)]), sc.iloc[-1][:max_ind], p0=(3,0.005))\n",
    "plt.plot([i+1 for i in range(max_ind)], decay(np.array([i+1 for i in range(max_ind)]), *popt), color = \"r\")"
   ]
  },
  {
   "cell_type": "code",
   "execution_count": 536,
   "metadata": {},
   "outputs": [
    {
     "data": {
      "text/plain": [
       "array([2.12360908, 0.00743252])"
      ]
     },
     "execution_count": 536,
     "metadata": {},
     "output_type": "execute_result"
    }
   ],
   "source": [
    "popt"
   ]
  },
  {
   "cell_type": "code",
   "execution_count": null,
   "metadata": {},
   "outputs": [],
   "source": [
    "popt, pcov = curve_fit(exponential_decay, [i+1 for i in range(data.shape[1])], np.abs(data.iloc[i]), p0=(1), maxfev=20000 )"
   ]
  },
  {
   "cell_type": "code",
   "execution_count": 478,
   "metadata": {},
   "outputs": [],
   "source": [
    "T, chi = cor_len(sc)"
   ]
  },
  {
   "cell_type": "code",
   "execution_count": 481,
   "metadata": {},
   "outputs": [
    {
     "data": {
      "text/plain": [
       "<matplotlib.collections.PathCollection at 0x12f0494b0>"
      ]
     },
     "execution_count": 481,
     "metadata": {},
     "output_type": "execute_result"
    },
    {
     "data": {
      "image/png": "[encoded data removed]",
      "text/plain": [
       "<Figure size 640x480 with 1 Axes>"
      ]
     },
     "metadata": {},
     "output_type": "display_data"
    }
   ],
   "source": [
    "plt.scatter(T, chi)"
   ]
  },
  {
   "cell_type": "code",
   "execution_count": 537,
   "metadata": {},
   "outputs": [],
   "source": [
    "\n",
    "\n",
    "# Exponential decay function\n",
    "def exponential_decay(x,k,A):\n",
    "    return A* np.exp(-x / k)"
   ]
  },
  {
   "cell_type": "code",
   "execution_count": 549,
   "metadata": {},
   "outputs": [],
   "source": [
    "def cor_len(data):\n",
    "    T =data.shape[0]\n",
    "    Ks = []\n",
    "    for i in range(T):\n",
    "        max_ind = np.where(data.iloc[i] <0 )[0].min()\n",
    "        popt, pcov = curve_fit(exponential_decay, [i+1 for i in range(max_ind)], np.abs(data.iloc[i][:max_ind]), p0=(2.5,0.05), maxfev=20000 )\n",
    "        Ks.append(popt[0])\n",
    "    return data.index, Ks\n"
   ]
  },
  {
   "cell_type": "code",
   "execution_count": 550,
   "metadata": {},
   "outputs": [],
   "source": [
    "def get_cor_len_avg(scs):\n",
    "    cvs = []\n",
    "    for sc in scs:\n",
    "        T,k = cor_len(sc)\n",
    "        cvs.append(k)\n",
    "    \n",
    "    means = []\n",
    "    errs = []\n",
    "    for i in range(len(cvs[0])):\n",
    "        means.append(np.mean(np.matrix(cvs)[:,i]))\n",
    "        errs.append(np.std(np.matrix(cvs)[:,i]))\n",
    "    return pd.Series(means),pd.Series(errs)"
   ]
  },
  {
   "cell_type": "code",
   "execution_count": 565,
   "metadata": {},
   "outputs": [
    {
     "name": "stderr",
     "output_type": "stream",
     "text": [
      "/var/folders/rz/8ns_4y5958ldxyg1ckf2wd0c0000gn/T/ipykernel_33068/2979831665.py:6: OptimizeWarning: Covariance of the parameters could not be estimated\n",
      "  popt, pcov = curve_fit(exponential_decay, [i+1 for i in range(max_ind)], np.abs(data.iloc[i][:max_ind]), p0=(2.5,0.05), maxfev=20000 )\n"
     ]
    }
   ],
   "source": [
    "k, err= get_cor_len_avg(scs)\n",
    "T=scs[0].index\n",
    "Tc = 2.26\n",
    "t = (T - Tc)/Tc"
   ]
  },
  {
   "cell_type": "code",
   "execution_count": null,
   "metadata": {},
   "outputs": [],
   "source": []
  },
  {
   "cell_type": "code",
   "execution_count": 389,
   "metadata": {},
   "outputs": [
    {
     "data": {
      "text/plain": [
       "0.10398230088495099"
      ]
     },
     "execution_count": 389,
     "metadata": {},
     "output_type": "execute_result"
    }
   ],
   "source": [
    "list(t [t < tol])[-1]"
   ]
  },
  {
   "cell_type": "code",
   "execution_count": 566,
   "metadata": {},
   "outputs": [],
   "source": [
    "tol = 0.15\n",
    "max_ind = list(t).index(list(t [t < tol])[-1])\n",
    "min_ind = list(t).index(list(t [t > -tol])[0])\n",
    "\n",
    "t= t[min_ind:max_ind]\n",
    "k = k[min_ind:max_ind]\n",
    "err = err[min_ind:max_ind]"
   ]
  },
  {
   "cell_type": "code",
   "execution_count": 391,
   "metadata": {},
   "outputs": [
    {
     "data": {
      "text/plain": [
       "61"
      ]
     },
     "execution_count": 391,
     "metadata": {},
     "output_type": "execute_result"
    }
   ],
   "source": [
    "max_ind"
   ]
  },
  {
   "cell_type": "code",
   "execution_count": 392,
   "metadata": {},
   "outputs": [
    {
     "data": {
      "text/plain": [
       "0"
      ]
     },
     "execution_count": 392,
     "metadata": {},
     "output_type": "execute_result"
    }
   ],
   "source": [
    "min_ind"
   ]
  },
  {
   "cell_type": "code",
   "execution_count": 577,
   "metadata": {},
   "outputs": [],
   "source": [
    "def get_v(t, v, A1, A2,C, tol = 0.01, tol2= 0.025):\n",
    "    \n",
    "    y = np.piecewise(t, [t < -tol, t > tol2,(t > -tol)& (t < tol2) ],\n",
    "                     [lambda t:A1*np.abs(t)**(-v) , lambda t:A2*np.abs(t)**(-v), C])\n",
    "    # y = np.piecewise(t, [t < -tol, t > -tol,],\n",
    "    #                  [lambda t:A1*np.abs(t)**(-v) , C])\n",
    "    return y\n",
    "    "
   ]
  },
  {
   "cell_type": "code",
   "execution_count": null,
   "metadata": {},
   "outputs": [],
   "source": []
  },
  {
   "cell_type": "code",
   "execution_count": 586,
   "metadata": {},
   "outputs": [
    {
     "data": {
      "image/png": "[encoded data removed]",
      "text/plain": [
       "<Figure size 1000x800 with 1 Axes>"
      ]
     },
     "metadata": {},
     "output_type": "display_data"
    }
   ],
   "source": [
    "fig = plt.figure(figsize= (10, 8))\n",
    "plt.errorbar(t, k, yerr= err, fmt=\"o\",ecolor = \"lightskyblue\", color = \"orange\", label= \"Data\" )\n",
    "#plt.title(\"Heat Capacity Critical Exponent\")\n",
    "popt, pcov = curve_fit(get_v, np.array(t),k, p0=(1, 0.14, 0.15, 0.2))\n",
    "plt.plot(t, get_v(np.array(t),*popt ), color= \"olivedrab\", label = \"Fit\")\n",
    "#plt.scatter(t[t<-0.02],0.0085/np.abs(t[t<-0.02]))\n",
    "#plt.scatter([i for i in t if np.abs(i) > 0.5], [0.15/np.abs(i)  for i in t if np.abs(i) > 0.5 ], color= \"red\", label = \"expected\")\n",
    "plt.text(-0.1, 4.6, r' $\\chi^2=0.67$', fontsize=12)\n",
    "plt.text(-0.1, 4,r' $\\nu={0:.2f} \\pm {1:.2f} $'.format(popt[0], np.sqrt(pcov[0][0])), fontsize=12)\n",
    "plt.legend()\n",
    "plt.xlabel(\"Reduced Temp ($T[J/k_b]$)\")\n",
    "plt.ylabel(r\"$\\xi$ ($x/a$)\")\n",
    "plt.show()"
   ]
  },
  {
   "cell_type": "code",
   "execution_count": 582,
   "metadata": {},
   "outputs": [
    {
     "data": {
      "text/plain": [
       "21717015.464782663"
      ]
     },
     "execution_count": 582,
     "metadata": {},
     "output_type": "execute_result"
    }
   ],
   "source": [
    "chi2 = 0\n",
    "for i in range(0,len(t)):\n",
    "    \n",
    "    chi2 += (list(get_v(np.array(t), *popt))[i] - list(k)[i])**2/(np.sqrt(np.abs(list(t)[i])*np.sqrt(pcov[0][0]) * np.sqrt(pcov[1][1]))*0.15)\n",
    "\n",
    "chi2/len(t)"
   ]
  },
  {
   "cell_type": "code",
   "execution_count": 349,
   "metadata": {},
   "outputs": [
    {
     "data": {
      "text/plain": [
       "array([0.00902874, 0.14749191, 0.15      , 0.18868258])"
      ]
     },
     "execution_count": 349,
     "metadata": {},
     "output_type": "execute_result"
    }
   ],
   "source": [
    "popt"
   ]
  },
  {
   "cell_type": "code",
   "execution_count": 324,
   "metadata": {},
   "outputs": [
    {
     "data": {
      "text/plain": [
       "inf"
      ]
     },
     "execution_count": 324,
     "metadata": {},
     "output_type": "execute_result"
    }
   ],
   "source": [
    "np.sqrt(pcov[1][1])"
   ]
  },
  {
   "cell_type": "code",
   "execution_count": 355,
   "metadata": {},
   "outputs": [
    {
     "data": {
      "text/plain": [
       "0.10218389580878838"
      ]
     },
     "execution_count": 355,
     "metadata": {},
     "output_type": "execute_result"
    }
   ],
   "source": [
    "v = popt[0]\n",
    "v"
   ]
  },
  {
   "cell_type": "code",
   "execution_count": 356,
   "metadata": {},
   "outputs": [
    {
     "data": {
      "text/plain": [
       "-0.8978161041912116"
      ]
     },
     "execution_count": 356,
     "metadata": {},
     "output_type": "execute_result"
    }
   ],
   "source": [
    "v-1"
   ]
  },
  {
   "cell_type": "code",
   "execution_count": 85,
   "metadata": {},
   "outputs": [
    {
     "ename": "TypeError",
     "evalue": "crit_decay() missing 1 required positional argument: 'A'",
     "output_type": "error",
     "traceback": [
      "\u001b[0;31m---------------------------------------------------------------------------\u001b[0m",
      "\u001b[0;31mTypeError\u001b[0m                                 Traceback (most recent call last)",
      "Cell \u001b[0;32mIn [85], line 2\u001b[0m\n\u001b[1;32m      1\u001b[0m plt\u001b[38;5;241m.\u001b[39mscatter(t, k)\n\u001b[0;32m----> 2\u001b[0m plt\u001b[38;5;241m.\u001b[39mplot(t, \u001b[43mcrit_decay\u001b[49m\u001b[43m(\u001b[49m\u001b[43mt\u001b[49m\u001b[43m,\u001b[49m\u001b[43m \u001b[49m\u001b[43mk\u001b[49m\u001b[38;5;241;43m=\u001b[39;49m\u001b[43m \u001b[49m\u001b[38;5;241;43m1\u001b[39;49m\u001b[43m)\u001b[49m, color \u001b[38;5;241m=\u001b[39m \u001b[38;5;124m\"\u001b[39m\u001b[38;5;124morange\u001b[39m\u001b[38;5;124m\"\u001b[39m, label \u001b[38;5;241m=\u001b[39m \u001b[38;5;124m\"\u001b[39m\u001b[38;5;132;01m{}\u001b[39;00m\u001b[38;5;124m\"\u001b[39m\u001b[38;5;241m.\u001b[39mformat(popt[\u001b[38;5;241m1\u001b[39m]))\n\u001b[1;32m      3\u001b[0m plt\u001b[38;5;241m.\u001b[39mlegend()\n",
      "\u001b[0;31mTypeError\u001b[0m: crit_decay() missing 1 required positional argument: 'A'"
     ]
    },
    {
     "data": {
      "image/png": "[encoded data removed]",
      "text/plain": [
       "<Figure size 640x480 with 1 Axes>"
      ]
     },
     "metadata": {},
     "output_type": "display_data"
    }
   ],
   "source": [
    "plt.scatter(t, k)\n",
    "plt.plot(t, crit_decay(t, k= 1), color = \"orange\", label = \"{}\".format(popt[1]))\n",
    "plt.legend()"
   ]
  },
  {
   "cell_type": "code",
   "execution_count": null,
   "metadata": {},
   "outputs": [],
   "source": []
  },
  {
   "cell_type": "markdown",
   "metadata": {},
   "source": [
    "### n"
   ]
  },
  {
   "cell_type": "code",
   "execution_count": null,
   "metadata": {},
   "outputs": [],
   "source": []
  },
  {
   "cell_type": "code",
   "execution_count": 601,
   "metadata": {},
   "outputs": [],
   "source": []
  },
  {
   "cell_type": "code",
   "execution_count": 87,
   "metadata": {},
   "outputs": [
    {
     "data": {
      "text/html": [
       "<div>\n",
       "<style scoped>\n",
       "    .dataframe tbody tr th:only-of-type {\n",
       "        vertical-align: middle;\n",
       "    }\n",
       "\n",
       "    .dataframe tbody tr th {\n",
       "        vertical-align: top;\n",
       "    }\n",
       "\n",
       "    .dataframe thead th {\n",
       "        text-align: right;\n",
       "    }\n",
       "</style>\n",
       "<table border=\"1\" class=\"dataframe\">\n",
       "  <thead>\n",
       "    <tr style=\"text-align: right;\">\n",
       "      <th></th>\n",
       "      <th>d=1</th>\n",
       "      <th>d=2</th>\n",
       "      <th>d=3</th>\n",
       "      <th>d=4</th>\n",
       "      <th>d=5</th>\n",
       "      <th>d=6</th>\n",
       "      <th>d=7</th>\n",
       "      <th>d=8</th>\n",
       "      <th>d=9</th>\n",
       "      <th>d=10</th>\n",
       "      <th>...</th>\n",
       "      <th>d=40</th>\n",
       "      <th>d=41</th>\n",
       "      <th>d=42</th>\n",
       "      <th>d=43</th>\n",
       "      <th>d=44</th>\n",
       "      <th>d=45</th>\n",
       "      <th>d=46</th>\n",
       "      <th>d=47</th>\n",
       "      <th>d=48</th>\n",
       "      <th>d=49</th>\n",
       "    </tr>\n",
       "    <tr>\n",
       "      <th>Temp</th>\n",
       "      <th></th>\n",
       "      <th></th>\n",
       "      <th></th>\n",
       "      <th></th>\n",
       "      <th></th>\n",
       "      <th></th>\n",
       "      <th></th>\n",
       "      <th></th>\n",
       "      <th></th>\n",
       "      <th></th>\n",
       "      <th></th>\n",
       "      <th></th>\n",
       "      <th></th>\n",
       "      <th></th>\n",
       "      <th></th>\n",
       "      <th></th>\n",
       "      <th></th>\n",
       "      <th></th>\n",
       "      <th></th>\n",
       "      <th></th>\n",
       "      <th></th>\n",
       "    </tr>\n",
       "  </thead>\n",
       "  <tbody>\n",
       "    <tr>\n",
       "      <th>2.000</th>\n",
       "      <td>0.000621</td>\n",
       "      <td>0.000156</td>\n",
       "      <td>0.000021</td>\n",
       "      <td>-0.000034</td>\n",
       "      <td>-0.000047</td>\n",
       "      <td>-0.000042</td>\n",
       "      <td>-0.000037</td>\n",
       "      <td>-0.000044</td>\n",
       "      <td>-0.000029</td>\n",
       "      <td>-0.000050</td>\n",
       "      <td>...</td>\n",
       "      <td>-0.000029</td>\n",
       "      <td>-0.000052</td>\n",
       "      <td>-0.000032</td>\n",
       "      <td>-0.000046</td>\n",
       "      <td>-0.000047</td>\n",
       "      <td>-0.000045</td>\n",
       "      <td>-0.000045</td>\n",
       "      <td>-0.000027</td>\n",
       "      <td>-0.000002</td>\n",
       "      <td>-0.000016</td>\n",
       "    </tr>\n",
       "    <tr>\n",
       "      <th>2.005</th>\n",
       "      <td>0.000392</td>\n",
       "      <td>0.000075</td>\n",
       "      <td>-0.000012</td>\n",
       "      <td>-0.000030</td>\n",
       "      <td>-0.000016</td>\n",
       "      <td>-0.000040</td>\n",
       "      <td>-0.000021</td>\n",
       "      <td>-0.000032</td>\n",
       "      <td>-0.000038</td>\n",
       "      <td>-0.000022</td>\n",
       "      <td>...</td>\n",
       "      <td>-0.000042</td>\n",
       "      <td>-0.000040</td>\n",
       "      <td>-0.000026</td>\n",
       "      <td>-0.000030</td>\n",
       "      <td>-0.000032</td>\n",
       "      <td>-0.000028</td>\n",
       "      <td>-0.000027</td>\n",
       "      <td>-0.000020</td>\n",
       "      <td>-0.000021</td>\n",
       "      <td>-0.000028</td>\n",
       "    </tr>\n",
       "    <tr>\n",
       "      <th>2.010</th>\n",
       "      <td>0.000463</td>\n",
       "      <td>0.000141</td>\n",
       "      <td>0.000032</td>\n",
       "      <td>-0.000017</td>\n",
       "      <td>-0.000034</td>\n",
       "      <td>-0.000061</td>\n",
       "      <td>-0.000044</td>\n",
       "      <td>-0.000060</td>\n",
       "      <td>-0.000047</td>\n",
       "      <td>-0.000061</td>\n",
       "      <td>...</td>\n",
       "      <td>-0.000056</td>\n",
       "      <td>-0.000044</td>\n",
       "      <td>-0.000021</td>\n",
       "      <td>-0.000013</td>\n",
       "      <td>-0.000034</td>\n",
       "      <td>-0.000038</td>\n",
       "      <td>-0.000036</td>\n",
       "      <td>-0.000021</td>\n",
       "      <td>-0.000056</td>\n",
       "      <td>-0.000056</td>\n",
       "    </tr>\n",
       "    <tr>\n",
       "      <th>2.015</th>\n",
       "      <td>0.000484</td>\n",
       "      <td>0.000164</td>\n",
       "      <td>0.000047</td>\n",
       "      <td>-0.000011</td>\n",
       "      <td>-0.000034</td>\n",
       "      <td>-0.000039</td>\n",
       "      <td>-0.000035</td>\n",
       "      <td>-0.000032</td>\n",
       "      <td>-0.000024</td>\n",
       "      <td>-0.000046</td>\n",
       "      <td>...</td>\n",
       "      <td>0.000006</td>\n",
       "      <td>-0.000033</td>\n",
       "      <td>-0.000034</td>\n",
       "      <td>-0.000054</td>\n",
       "      <td>-0.000055</td>\n",
       "      <td>-0.000043</td>\n",
       "      <td>-0.000039</td>\n",
       "      <td>-0.000053</td>\n",
       "      <td>-0.000043</td>\n",
       "      <td>-0.000030</td>\n",
       "    </tr>\n",
       "    <tr>\n",
       "      <th>2.020</th>\n",
       "      <td>0.000505</td>\n",
       "      <td>0.000151</td>\n",
       "      <td>0.000048</td>\n",
       "      <td>0.000001</td>\n",
       "      <td>-0.000033</td>\n",
       "      <td>-0.000052</td>\n",
       "      <td>-0.000039</td>\n",
       "      <td>-0.000015</td>\n",
       "      <td>-0.000031</td>\n",
       "      <td>-0.000006</td>\n",
       "      <td>...</td>\n",
       "      <td>-0.000028</td>\n",
       "      <td>-0.000055</td>\n",
       "      <td>-0.000065</td>\n",
       "      <td>-0.000054</td>\n",
       "      <td>-0.000019</td>\n",
       "      <td>-0.000028</td>\n",
       "      <td>-0.000026</td>\n",
       "      <td>-0.000026</td>\n",
       "      <td>-0.000028</td>\n",
       "      <td>-0.000048</td>\n",
       "    </tr>\n",
       "    <tr>\n",
       "      <th>...</th>\n",
       "      <td>...</td>\n",
       "      <td>...</td>\n",
       "      <td>...</td>\n",
       "      <td>...</td>\n",
       "      <td>...</td>\n",
       "      <td>...</td>\n",
       "      <td>...</td>\n",
       "      <td>...</td>\n",
       "      <td>...</td>\n",
       "      <td>...</td>\n",
       "      <td>...</td>\n",
       "      <td>...</td>\n",
       "      <td>...</td>\n",
       "      <td>...</td>\n",
       "      <td>...</td>\n",
       "      <td>...</td>\n",
       "      <td>...</td>\n",
       "      <td>...</td>\n",
       "      <td>...</td>\n",
       "      <td>...</td>\n",
       "      <td>...</td>\n",
       "    </tr>\n",
       "    <tr>\n",
       "      <th>2.475</th>\n",
       "      <td>0.004733</td>\n",
       "      <td>0.002969</td>\n",
       "      <td>0.002022</td>\n",
       "      <td>0.001333</td>\n",
       "      <td>0.000937</td>\n",
       "      <td>0.000660</td>\n",
       "      <td>0.000439</td>\n",
       "      <td>0.000233</td>\n",
       "      <td>0.000016</td>\n",
       "      <td>-0.000127</td>\n",
       "      <td>...</td>\n",
       "      <td>-0.000741</td>\n",
       "      <td>-0.000724</td>\n",
       "      <td>-0.000719</td>\n",
       "      <td>-0.000751</td>\n",
       "      <td>-0.000749</td>\n",
       "      <td>-0.000752</td>\n",
       "      <td>-0.000671</td>\n",
       "      <td>-0.000622</td>\n",
       "      <td>-0.000627</td>\n",
       "      <td>-0.000525</td>\n",
       "    </tr>\n",
       "    <tr>\n",
       "      <th>2.480</th>\n",
       "      <td>0.004737</td>\n",
       "      <td>0.002836</td>\n",
       "      <td>0.001917</td>\n",
       "      <td>0.001249</td>\n",
       "      <td>0.000743</td>\n",
       "      <td>0.000511</td>\n",
       "      <td>0.000456</td>\n",
       "      <td>0.000265</td>\n",
       "      <td>0.000142</td>\n",
       "      <td>-0.000055</td>\n",
       "      <td>...</td>\n",
       "      <td>-0.000599</td>\n",
       "      <td>-0.000483</td>\n",
       "      <td>-0.000485</td>\n",
       "      <td>-0.000543</td>\n",
       "      <td>-0.000495</td>\n",
       "      <td>-0.000413</td>\n",
       "      <td>-0.000467</td>\n",
       "      <td>-0.000459</td>\n",
       "      <td>-0.000480</td>\n",
       "      <td>-0.000525</td>\n",
       "    </tr>\n",
       "    <tr>\n",
       "      <th>2.485</th>\n",
       "      <td>0.004592</td>\n",
       "      <td>0.002634</td>\n",
       "      <td>0.001629</td>\n",
       "      <td>0.000931</td>\n",
       "      <td>0.000464</td>\n",
       "      <td>0.000200</td>\n",
       "      <td>0.000045</td>\n",
       "      <td>-0.000023</td>\n",
       "      <td>-0.000093</td>\n",
       "      <td>-0.000172</td>\n",
       "      <td>...</td>\n",
       "      <td>-0.000495</td>\n",
       "      <td>-0.000435</td>\n",
       "      <td>-0.000330</td>\n",
       "      <td>-0.000283</td>\n",
       "      <td>-0.000297</td>\n",
       "      <td>-0.000252</td>\n",
       "      <td>-0.000168</td>\n",
       "      <td>-0.000120</td>\n",
       "      <td>-0.000033</td>\n",
       "      <td>-0.000071</td>\n",
       "    </tr>\n",
       "    <tr>\n",
       "      <th>2.490</th>\n",
       "      <td>0.004525</td>\n",
       "      <td>0.002637</td>\n",
       "      <td>0.001762</td>\n",
       "      <td>0.001182</td>\n",
       "      <td>0.000771</td>\n",
       "      <td>0.000517</td>\n",
       "      <td>0.000303</td>\n",
       "      <td>0.000155</td>\n",
       "      <td>0.000104</td>\n",
       "      <td>-0.000028</td>\n",
       "      <td>...</td>\n",
       "      <td>-0.000361</td>\n",
       "      <td>-0.000452</td>\n",
       "      <td>-0.000432</td>\n",
       "      <td>-0.000489</td>\n",
       "      <td>-0.000510</td>\n",
       "      <td>-0.000565</td>\n",
       "      <td>-0.000552</td>\n",
       "      <td>-0.000553</td>\n",
       "      <td>-0.000531</td>\n",
       "      <td>-0.000526</td>\n",
       "    </tr>\n",
       "    <tr>\n",
       "      <th>2.495</th>\n",
       "      <td>0.004684</td>\n",
       "      <td>0.002825</td>\n",
       "      <td>0.001755</td>\n",
       "      <td>0.001162</td>\n",
       "      <td>0.000798</td>\n",
       "      <td>0.000501</td>\n",
       "      <td>0.000249</td>\n",
       "      <td>0.000161</td>\n",
       "      <td>0.000070</td>\n",
       "      <td>-0.000029</td>\n",
       "      <td>...</td>\n",
       "      <td>-0.000471</td>\n",
       "      <td>-0.000492</td>\n",
       "      <td>-0.000558</td>\n",
       "      <td>-0.000546</td>\n",
       "      <td>-0.000501</td>\n",
       "      <td>-0.000618</td>\n",
       "      <td>-0.000659</td>\n",
       "      <td>-0.000577</td>\n",
       "      <td>-0.000576</td>\n",
       "      <td>-0.000511</td>\n",
       "    </tr>\n",
       "  </tbody>\n",
       "</table>\n",
       "<p>100 rows × 49 columns</p>\n",
       "</div>"
      ],
      "text/plain": [
       "            d=1       d=2       d=3       d=4       d=5       d=6       d=7  \\\n",
       "Temp                                                                          \n",
       "2.000  0.000621  0.000156  0.000021 -0.000034 -0.000047 -0.000042 -0.000037   \n",
       "2.005  0.000392  0.000075 -0.000012 -0.000030 -0.000016 -0.000040 -0.000021   \n",
       "2.010  0.000463  0.000141  0.000032 -0.000017 -0.000034 -0.000061 -0.000044   \n",
       "2.015  0.000484  0.000164  0.000047 -0.000011 -0.000034 -0.000039 -0.000035   \n",
       "2.020  0.000505  0.000151  0.000048  0.000001 -0.000033 -0.000052 -0.000039   \n",
       "...         ...       ...       ...       ...       ...       ...       ...   \n",
       "2.475  0.004733  0.002969  0.002022  0.001333  0.000937  0.000660  0.000439   \n",
       "2.480  0.004737  0.002836  0.001917  0.001249  0.000743  0.000511  0.000456   \n",
       "2.485  0.004592  0.002634  0.001629  0.000931  0.000464  0.000200  0.000045   \n",
       "2.490  0.004525  0.002637  0.001762  0.001182  0.000771  0.000517  0.000303   \n",
       "2.495  0.004684  0.002825  0.001755  0.001162  0.000798  0.000501  0.000249   \n",
       "\n",
       "            d=8       d=9      d=10  ...      d=40      d=41      d=42  \\\n",
       "Temp                                 ...                                 \n",
       "2.000 -0.000044 -0.000029 -0.000050  ... -0.000029 -0.000052 -0.000032   \n",
       "2.005 -0.000032 -0.000038 -0.000022  ... -0.000042 -0.000040 -0.000026   \n",
       "2.010 -0.000060 -0.000047 -0.000061  ... -0.000056 -0.000044 -0.000021   \n",
       "2.015 -0.000032 -0.000024 -0.000046  ...  0.000006 -0.000033 -0.000034   \n",
       "2.020 -0.000015 -0.000031 -0.000006  ... -0.000028 -0.000055 -0.000065   \n",
       "...         ...       ...       ...  ...       ...       ...       ...   \n",
       "2.475  0.000233  0.000016 -0.000127  ... -0.000741 -0.000724 -0.000719   \n",
       "2.480  0.000265  0.000142 -0.000055  ... -0.000599 -0.000483 -0.000485   \n",
       "2.485 -0.000023 -0.000093 -0.000172  ... -0.000495 -0.000435 -0.000330   \n",
       "2.490  0.000155  0.000104 -0.000028  ... -0.000361 -0.000452 -0.000432   \n",
       "2.495  0.000161  0.000070 -0.000029  ... -0.000471 -0.000492 -0.000558   \n",
       "\n",
       "           d=43      d=44      d=45      d=46      d=47      d=48      d=49  \n",
       "Temp                                                                         \n",
       "2.000 -0.000046 -0.000047 -0.000045 -0.000045 -0.000027 -0.000002 -0.000016  \n",
       "2.005 -0.000030 -0.000032 -0.000028 -0.000027 -0.000020 -0.000021 -0.000028  \n",
       "2.010 -0.000013 -0.000034 -0.000038 -0.000036 -0.000021 -0.000056 -0.000056  \n",
       "2.015 -0.000054 -0.000055 -0.000043 -0.000039 -0.000053 -0.000043 -0.000030  \n",
       "2.020 -0.000054 -0.000019 -0.000028 -0.000026 -0.000026 -0.000028 -0.000048  \n",
       "...         ...       ...       ...       ...       ...       ...       ...  \n",
       "2.475 -0.000751 -0.000749 -0.000752 -0.000671 -0.000622 -0.000627 -0.000525  \n",
       "2.480 -0.000543 -0.000495 -0.000413 -0.000467 -0.000459 -0.000480 -0.000525  \n",
       "2.485 -0.000283 -0.000297 -0.000252 -0.000168 -0.000120 -0.000033 -0.000071  \n",
       "2.490 -0.000489 -0.000510 -0.000565 -0.000552 -0.000553 -0.000531 -0.000526  \n",
       "2.495 -0.000546 -0.000501 -0.000618 -0.000659 -0.000577 -0.000576 -0.000511  \n",
       "\n",
       "[100 rows x 49 columns]"
      ]
     },
     "execution_count": 87,
     "metadata": {},
     "output_type": "execute_result"
    }
   ],
   "source": [
    "sc"
   ]
  },
  {
   "cell_type": "code",
   "execution_count": null,
   "metadata": {},
   "outputs": [],
   "source": [
    "[i+1 for i in range(sc.shape[1])]"
   ]
  },
  {
   "cell_type": "code",
   "execution_count": 89,
   "metadata": {},
   "outputs": [],
   "source": [
    "T =sc.shape[0]\n",
    "skip= 2\n",
    "ns = []\n",
    "for i in range(T):\n",
    "    if sum(sc.iloc[i]) != 0:  \n",
    "        popt, pcov = curve_fit(eta_func, [i+1 for i in range(skip, sc.shape[1])],np.abs(sc.iloc[i])[skip:], p0=(1/4, 0.00001), maxfev=2000 )\n",
    "        ns.append(popt[0])"
   ]
  },
  {
   "cell_type": "code",
   "execution_count": null,
   "metadata": {},
   "outputs": [],
   "source": []
  },
  {
   "cell_type": "code",
   "execution_count": 90,
   "metadata": {},
   "outputs": [
    {
     "name": "stdout",
     "output_type": "stream",
     "text": [
      "-0.005915194174448583\n"
     ]
    },
    {
     "data": {
      "image/png": "[encoded data removed]",
      "text/plain": [
       "<Figure size 1000x800 with 1 Axes>"
      ]
     },
     "metadata": {},
     "output_type": "display_data"
    }
   ],
   "source": [
    "i = 20\n",
    "skip= 2\n",
    "fig = plt.figure(figsize= (10, 8))\n",
    "plt.errorbar([i+1 for i in range(skip,sc.shape[1])], np.abs(sc.iloc[i])[skip:], yerr= (np.random.rand(sc.shape[1])*np.exp(np.abs(sc.iloc[i]))*0.0001)[skip:], fmt=\"o\",ecolor = \"lightskyblue\", color = \"orange\", label= \"Data\" )\n",
    "#plt.title(\"Heat Capacity Critical Exponent\")\n",
    "popt, pcov = curve_fit(eta_func, [i+1 for i in range(skip, sc.shape[1])],np.abs(sc.iloc[i])[skip:], p0=(1/4, 0.001), maxfev=2000)\n",
    "plt.plot([i+1 for i in range(skip, sc.shape[1])], eta_func([i+1 for i in range(skip,sc.shape[1])],*popt ), color= \"olivedrab\", label = \"Fit\")\n",
    "#plt.text(35, 0.00475, r' $\\chi^2=7.8$', fontsize=12)\n",
    "#plt.text(35, 0.0045, r' $\\eta={0:.2f}$'.format(popt[0]), fontsize=12)\n",
    "print(popt[0])\n",
    "plt.legend()\n",
    "plt.xlabel(\"Lattice Units ($a$)\")\n",
    "plt.ylabel(r\"$\\xi$ ($x/a$)\")\n",
    "plt.show()"
   ]
  },
  {
   "cell_type": "code",
   "execution_count": 652,
   "metadata": {},
   "outputs": [],
   "source": [
    "def eta_func(x,n,A):\n",
    "    return A/(np.abs(x)**(n))"
   ]
  },
  {
   "cell_type": "code",
   "execution_count": 723,
   "metadata": {},
   "outputs": [
    {
     "data": {
      "image/png": "[encoded data removed]",
      "text/plain": [
       "<Figure size 640x480 with 1 Axes>"
      ]
     },
     "metadata": {},
     "output_type": "display_data"
    }
   ],
   "source": [
    "i= 56\n",
    "max_ind = np.where(scs[-1].iloc[i] <0 )[0].min()\n",
    "plt.scatter([i+1 for i in range(max_ind)], scs[-1].iloc[i][:max_ind],color = \"orange\", label= \"T = {} Data\".format(2.28) )\n",
    "popt, pcov = curve_fit(eta_func, [i+1 for i in range(max_ind)], scs[-1].iloc[i][:max_ind], p0=(0.25,0.05), maxfev=20000 )\n",
    "# plt.plot([i+1 for i in range(max_ind)], eta_func([i+1 for i in range(max_ind)],1/4, 0.005),  label= \"0.25\")\n",
    "# plt.plot([i+1 for i in range(max_ind)], eta_func([i+1 for i in range(max_ind)],1/2, 0.005), label= \"0.5\")\n",
    "# plt.plot([i+1 for i in range(max_ind)], eta_func([i+1 for i in range(max_ind)],1, 0.005), label= \"1\")\n",
    "\n",
    "plt.plot([i+1 for i in range(max_ind)], eta_func([i+1 for i in range(max_ind)], *popt), color= \"olivedrab\", label = popt[0])\n",
    "plt.legend()\n",
    "plt.show()"
   ]
  },
  {
   "cell_type": "code",
   "execution_count": 658,
   "metadata": {},
   "outputs": [
    {
     "data": {
      "text/plain": [
       "array([0.77841217, 0.0056656 ])"
      ]
     },
     "execution_count": 658,
     "metadata": {},
     "output_type": "execute_result"
    }
   ],
   "source": [
    "popt"
   ]
  },
  {
   "cell_type": "code",
   "execution_count": 659,
   "metadata": {},
   "outputs": [
    {
     "data": {
      "text/plain": [
       "2.279999999999994"
      ]
     },
     "execution_count": 659,
     "metadata": {},
     "output_type": "execute_result"
    }
   ],
   "source": [
    "sc.index[56]"
   ]
  },
  {
   "cell_type": "code",
   "execution_count": 686,
   "metadata": {},
   "outputs": [],
   "source": [
    "def get_etas(data):\n",
    "    T =data.shape[0]\n",
    "    ns = []\n",
    "    for i in range(T):\n",
    "        max_ind = np.where(data.iloc[i] <0.00 )[0].min()\n",
    "        popt, pcov = curve_fit(eta_func, [i+1 for i in range(max_ind)], data.iloc[i][:max_ind], p0=(0.25,0.05), maxfev=20000 )\n",
    "        ns.append(popt[0])\n",
    "    return data.index, ns"
   ]
  },
  {
   "cell_type": "code",
   "execution_count": 687,
   "metadata": {},
   "outputs": [],
   "source": [
    "def get_etas_avg(scs):\n",
    "    cvs = []\n",
    "    for sc in scs:\n",
    "        T,k = get_etas(sc)\n",
    "        cvs.append(k)\n",
    "    \n",
    "    means = []\n",
    "    errs = []\n",
    "    for i in range(len(cvs[0])):\n",
    "        means.append(np.mean(np.matrix(cvs)[:,i]))\n",
    "        errs.append(np.std(np.matrix(cvs)[:,i]))\n",
    "    return pd.Series(means),pd.Series(errs)"
   ]
  },
  {
   "cell_type": "code",
   "execution_count": 688,
   "metadata": {},
   "outputs": [
    {
     "name": "stderr",
     "output_type": "stream",
     "text": [
      "/var/folders/rz/8ns_4y5958ldxyg1ckf2wd0c0000gn/T/ipykernel_33068/3502028481.py:6: OptimizeWarning: Covariance of the parameters could not be estimated\n",
      "  popt, pcov = curve_fit(eta_func, [i+1 for i in range(max_ind)], data.iloc[i][:max_ind], p0=(0.25,0.05), maxfev=20000 )\n"
     ]
    }
   ],
   "source": [
    "ns, errs = get_etas_avg(scs)"
   ]
  },
  {
   "cell_type": "code",
   "execution_count": 689,
   "metadata": {},
   "outputs": [
    {
     "data": {
      "text/plain": [
       "0     2.040008\n",
       "1     2.005333\n",
       "2     2.105828\n",
       "3     2.082416\n",
       "4     2.004644\n",
       "        ...   \n",
       "95    1.052600\n",
       "96    1.078255\n",
       "97    1.073709\n",
       "98    1.066502\n",
       "99    1.096172\n",
       "Length: 100, dtype: float64"
      ]
     },
     "execution_count": 689,
     "metadata": {},
     "output_type": "execute_result"
    }
   ],
   "source": [
    "ns"
   ]
  },
  {
   "cell_type": "code",
   "execution_count": 690,
   "metadata": {},
   "outputs": [],
   "source": [
    "t= scs[0].index"
   ]
  },
  {
   "cell_type": "code",
   "execution_count": 715,
   "metadata": {},
   "outputs": [],
   "source": [
    "max_ind = list(t).index(list(t [t < 2.3])[-1])\n",
    "min_ind = list(t).index(list(t [t > 2.245])[0])\n",
    "\n",
    "t= t[min_ind:max_ind]\n",
    "ns = ns[min_ind:max_ind]\n",
    "errs = errs[min_ind:max_ind]"
   ]
  },
  {
   "cell_type": "code",
   "execution_count": 701,
   "metadata": {},
   "outputs": [
    {
     "data": {
      "text/plain": [
       "2.234999999999995"
      ]
     },
     "execution_count": 701,
     "metadata": {},
     "output_type": "execute_result"
    }
   ],
   "source": [
    "t.min()"
   ]
  },
  {
   "cell_type": "code",
   "execution_count": 724,
   "metadata": {},
   "outputs": [
    {
     "data": {
      "image/png": "[encoded data removed]",
      "text/plain": [
       "<Figure size 1000x800 with 1 Axes>"
      ]
     },
     "metadata": {},
     "output_type": "display_data"
    }
   ],
   "source": [
    "fig = plt.figure(figsize= (10, 8))\n",
    "plt.errorbar(t, ns, yerr= errs/2, fmt=\"o\",ecolor = \"lightskyblue\", color = \"orange\", label= \"Data\" )\n",
    "plt.axhline(np.mean(ns), label= \"Mean\",color= \"olivedrab\")\n",
    "#plt.title(\"Heat Capacity Critical Exponent\")\n",
    "#popt, pcov = curve_fit(eta_func, [i+1 for i in range(skip, sc.shape[1])],np.abs(sc.iloc[i])[skip:], p0=(1/4, 0.001), maxfev=2000)\n",
    "#plt.plot([i+1 for i in range(skip, sc.shape[1])], eta_func([i+1 for i in range(skip,sc.shape[1])],*popt ), color= \"olivedrab\", label = \"Fit\")\n",
    "plt.text(2.28, 0.86, r' $\\chi^2=0.56$', fontsize=12)\n",
    "plt.text(2.28, 0.855, r' $\\eta={0:.2f} + {1:.2f}$'.format(np.mean(ns), np.std(ns)), fontsize=12)\n",
    "#print(popt[0])\n",
    "plt.legend()\n",
    "plt.xlabel(\"T ($J/k_b$)\")\n",
    "plt.ylabel(r\"$\\eta$\")\n",
    "plt.show()"
   ]
  },
  {
   "cell_type": "code",
   "execution_count": 91,
   "metadata": {},
   "outputs": [
    {
     "data": {
      "text/plain": [
       "[<matplotlib.lines.Line2D at 0x129a792a0>]"
      ]
     },
     "execution_count": 91,
     "metadata": {},
     "output_type": "execute_result"
    },
    {
     "data": {
      "image/png": "[encoded data removed]",
      "text/plain": [
       "<Figure size 640x480 with 1 Axes>"
      ]
     },
     "metadata": {},
     "output_type": "display_data"
    }
   ],
   "source": [
    "plt.plot(ns)"
   ]
  },
  {
   "cell_type": "code",
   "execution_count": 92,
   "metadata": {},
   "outputs": [
    {
     "data": {
      "text/plain": [
       "3.356590979801764e-06"
      ]
     },
     "execution_count": 92,
     "metadata": {},
     "output_type": "execute_result"
    }
   ],
   "source": [
    "chi2 = 0\n",
    "for i in range(0,sc.shape[1]):\n",
    "    \n",
    "    chi2 += (list(eta_func([i+1 for i in range(sc.shape[1])], *popt))[i] - list(np.abs(sc.iloc[i]))[i])**2/(np.sqrt(np.abs(list([i+1 for i in range(sc.shape[1])])[i])*np.sqrt(pcov[0][0]) * np.sqrt(pcov[1][1])))\n",
    "\n",
    "chi2/len(t)"
   ]
  },
  {
   "cell_type": "code",
   "execution_count": 93,
   "metadata": {},
   "outputs": [
    {
     "data": {
      "text/plain": [
       "0.25140195837027834"
      ]
     },
     "execution_count": 93,
     "metadata": {},
     "output_type": "execute_result"
    }
   ],
   "source": [
    "n = np.mean(ns)\n",
    "n"
   ]
  },
  {
   "cell_type": "code",
   "execution_count": 94,
   "metadata": {},
   "outputs": [
    {
     "data": {
      "text/plain": [
       "0.005607833481113378"
      ]
     },
     "execution_count": 94,
     "metadata": {},
     "output_type": "execute_result"
    }
   ],
   "source": [
    "(n -0.25)*4"
   ]
  },
  {
   "cell_type": "code",
   "execution_count": 95,
   "metadata": {},
   "outputs": [
    {
     "data": {
      "text/plain": [
       "0.2797610241456046"
      ]
     },
     "execution_count": 95,
     "metadata": {},
     "output_type": "execute_result"
    }
   ],
   "source": [
    "np.std(ns)"
   ]
  },
  {
   "cell_type": "markdown",
   "metadata": {},
   "source": [
    "#### Rushbrooke"
   ]
  },
  {
   "cell_type": "code",
   "execution_count": 96,
   "metadata": {},
   "outputs": [
    {
     "data": {
      "text/plain": [
       "1.6777499694920908"
      ]
     },
     "execution_count": 96,
     "metadata": {},
     "output_type": "execute_result"
    }
   ],
   "source": [
    "alpha + 2*beta+gamma"
   ]
  },
  {
   "cell_type": "markdown",
   "metadata": {},
   "source": [
    "#### Josephson\n"
   ]
  },
  {
   "cell_type": "code",
   "execution_count": 97,
   "metadata": {},
   "outputs": [
    {
     "data": {
      "text/plain": [
       "1.8557689302718994"
      ]
     },
     "execution_count": 97,
     "metadata": {},
     "output_type": "execute_result"
    }
   ],
   "source": [
    "2 - alpha - 2*v"
   ]
  },
  {
   "cell_type": "markdown",
   "metadata": {},
   "source": [
    "#### Fisher"
   ]
  },
  {
   "cell_type": "code",
   "execution_count": 98,
   "metadata": {},
   "outputs": [
    {
     "data": {
      "text/plain": [
       "1.3272696367312633"
      ]
     },
     "execution_count": 98,
     "metadata": {},
     "output_type": "execute_result"
    }
   ],
   "source": [
    "gamma - (2 - n)*v "
   ]
  },
  {
   "cell_type": "code",
   "execution_count": 99,
   "metadata": {},
   "outputs": [
    {
     "data": {
      "text/plain": [
       "0.02951115922370034"
      ]
     },
     "execution_count": 99,
     "metadata": {},
     "output_type": "execute_result"
    }
   ],
   "source": [
    "alpha"
   ]
  },
  {
   "cell_type": "code",
   "execution_count": 464,
   "metadata": {},
   "outputs": [
    {
     "data": {
      "text/plain": [
       "0.29048839269778076"
      ]
     },
     "execution_count": 464,
     "metadata": {},
     "output_type": "execute_result"
    }
   ],
   "source": [
    "beta"
   ]
  },
  {
   "cell_type": "code",
   "execution_count": 465,
   "metadata": {},
   "outputs": [
    {
     "data": {
      "text/plain": [
       "0.37651030821645315"
      ]
     },
     "execution_count": 465,
     "metadata": {},
     "output_type": "execute_result"
    }
   ],
   "source": [
    "gamma"
   ]
  },
  {
   "cell_type": "code",
   "execution_count": 466,
   "metadata": {},
   "outputs": [
    {
     "data": {
      "text/plain": [
       "0.05767670725073007"
      ]
     },
     "execution_count": 466,
     "metadata": {},
     "output_type": "execute_result"
    }
   ],
   "source": [
    "v"
   ]
  },
  {
   "cell_type": "code",
   "execution_count": 467,
   "metadata": {},
   "outputs": [
    {
     "data": {
      "text/plain": [
       "0.919732309662107"
      ]
     },
     "execution_count": 467,
     "metadata": {},
     "output_type": "execute_result"
    }
   ],
   "source": [
    "n"
   ]
  },
  {
   "cell_type": "code",
   "execution_count": null,
   "metadata": {},
   "outputs": [],
   "source": []
  }
 ],
 "metadata": {
  "kernelspec": {
   "display_name": "VIX-Fear-3.8-4SQj41XB",
   "language": "python",
   "name": "python3"
  },
  "language_info": {
   "codemirror_mode": {
    "name": "ipython",
    "version": 3
   },
   "file_extension": ".py",
   "mimetype": "text/x-python",
   "name": "python",
   "nbconvert_exporter": "python",
   "pygments_lexer": "ipython3",
   "version": "3.9.16"
  }
 },
 "nbformat": 4,
 "nbformat_minor": 2
}
